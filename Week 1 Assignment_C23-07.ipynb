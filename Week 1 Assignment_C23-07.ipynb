{
 "cells": [
  {
   "attachments": {},
   "cell_type": "markdown",
   "id": "2772552e",
   "metadata": {},
   "source": [
    "## Number -  Integer and Float"
   ]
  },
  {
   "cell_type": "code",
   "execution_count": 11,
   "id": "61d1c637",
   "metadata": {},
   "outputs": [
    {
     "name": "stdout",
     "output_type": "stream",
     "text": [
      "The data type for 100 is  <class 'int'>\n",
      "The data type for 100.05 is  <class 'float'>\n"
     ]
    }
   ],
   "source": [
    "# What is the data type for 100\n",
    "# What is the data type for 100.05\n",
    "# Use print\n",
    "\n",
    "#--------------- Write your code below----------------------------#\n",
    "x = 100\n",
    "y = 100.5\n",
    "print('The data type for 100 is ', type(x))\n",
    "print('The data type for 100.05 is ', type(y))"
   ]
  },
  {
   "cell_type": "code",
   "execution_count": 12,
   "id": "cf4a6328",
   "metadata": {},
   "outputs": [
    {
     "name": "stdout",
     "output_type": "stream",
     "text": [
      "fifteen_percent_of_200 is  30.0\n"
     ]
    }
   ],
   "source": [
    "# Basic Arithmetic\n",
    "# what is 15% of 200\n",
    "\n",
    "#--------------- Write your code below----------------------------#\n",
    "fifteen_percent_of_200 = 0.15*200\n",
    "print('fifteen_percent_of_200 is ', fifteen_percent_of_200)"
   ]
  },
  {
   "cell_type": "code",
   "execution_count": 13,
   "id": "0e9ec9bd",
   "metadata": {},
   "outputs": [
    {
     "name": "stdout",
     "output_type": "stream",
     "text": [
      "Juanita new salary is  2782.5\n"
     ]
    }
   ],
   "source": [
    "# Juanita’s salary is $2,650.00 per month. If she receives a salary increase of 5%, what is her new monthly salary?\n",
    "\n",
    "#--------------- Write your code below----------------------------#\n",
    "old_salary = 2650.00\n",
    "percentage_increase = 0.05\n",
    "new_salary = old_salary + (old_salary*0.05)\n",
    "print('Juanita new salary is ', new_salary)"
   ]
  },
  {
   "cell_type": "code",
   "execution_count": null,
   "id": "c0d17c9b",
   "metadata": {},
   "outputs": [],
   "source": [
    "# Jasper collects 1,082 cans of food. He gives a certain number of cans to the first local charity he finds. \n",
    "# He now has 602 cans of food. How many cans of food did he give to the first local charity?\n",
    "\n",
    "#--------------- Write your code below----------------------------#\n",
    "total_food_can = 1082\n",
    "total_amount_received_by_first_charity  = total_food_can -602\n",
    "print('The total number of cans of food did he give to the first local charity is ', total_amount_received_by_first_charity) "
   ]
  },
  {
   "cell_type": "code",
   "execution_count": null,
   "id": "0f60eca1",
   "metadata": {},
   "outputs": [],
   "source": [
    "# what is the square root of 100\n",
    "\n",
    "#--------------- Write your code below----------------------------#\n",
    "a = 100\n",
    "square_root_a = a**(1/2)\n",
    "print('The square root of 100 is ', square_root_a)"
   ]
  },
  {
   "attachments": {},
   "cell_type": "markdown",
   "id": "182fe6cf",
   "metadata": {},
   "source": [
    "## Variable Assignment - Integers and Floats"
   ]
  },
  {
   "cell_type": "code",
   "execution_count": null,
   "id": "d8a51387",
   "metadata": {},
   "outputs": [],
   "source": [
    "# what is the difference between income and tax i.e. income - tax and assign it to disposbale income\n",
    "# disposable_income = income - tax\n",
    "# Use input\n",
    "#--------------- Write your code below----------------------------#"
   ]
  },
  {
   "cell_type": "code",
   "execution_count": null,
   "id": "bb7c5649",
   "metadata": {},
   "outputs": [],
   "source": [
    "# Pamela’s salary is $3125.00 per month. If she receives a salary increase of 5%, her new monthly salary is:\n",
    "pam_sal = 3125.00\n",
    "sal_increase = 0.05\n",
    "new_salary = pam_sal + (pam_sal*sal_increase)\n",
    "# Use input\n",
    "#--------------- Write your code below----------------------------#\n",
    "print('Panela new salary is ', new_salary)"
   ]
  },
  {
   "cell_type": "code",
   "execution_count": null,
   "id": "894a0a42",
   "metadata": {},
   "outputs": [],
   "source": [
    "# You plan to forecast using the Simple Liner Forecast (Y = a + bx). What is Y? when a=1200, b=0.56 and x = 2500\n",
    "# a = \n",
    "# b = \n",
    "# x = \n",
    "# y = a + bx\n",
    "# Use input\n",
    "#--------------- Write your code below----------------------------#\n",
    "a = 1200\n",
    "b = 0.56\n",
    "x = 2500\n",
    "y = a + b*x\n",
    "print('The forecast for Y is ', y)"
   ]
  },
  {
   "cell_type": "code",
   "execution_count": null,
   "id": "c326af27",
   "metadata": {},
   "outputs": [],
   "source": [
    "# Student Calculator\n",
    "# Get user input to calculate total score\n",
    "\n",
    "# first_test = input(What is your score for first test: )\n",
    "# second_test == input(\"What is your score for second test: )\n",
    "# attendance = input(What is your score for attendance: )\n",
    "# exam = input(What is your score for exam: )\n",
    "# total_score = f_test + s_test + attend + examination\n",
    "# total_score\n",
    "\n",
    "#--------------- Write your code below----------------------------#\n",
    "first_test = float(input(\"What is your score for the first test: \"))\n",
    "second_test = float(input(\"What is your score for the second test: \"))\n",
    "attendance = float(input(\"What is your score for attendance: \"))\n",
    "exam = float(input(\"What is your score for the exam: \"))\n",
    "\n",
    "total_score = first_test + second_test + attendance + exam\n",
    "\n",
    "print(\"Total score:\", total_score)\n",
    "\n"
   ]
  },
  {
   "attachments": {},
   "cell_type": "markdown",
   "id": "f9ab0e76",
   "metadata": {},
   "source": [
    "## Strings"
   ]
  },
  {
   "cell_type": "code",
   "execution_count": null,
   "id": "badcafb7",
   "metadata": {},
   "outputs": [],
   "source": [
    "# Assign The quick brown fox jumps over the lazy dog to a Variable(text)\n",
    "\n",
    "# text = The quick brown fox jumps over the lazy dog\n",
    "\n",
    "# Slice the string to obtain quick brown fox\n",
    "# Slice the string to obtain the lazy dog\n",
    "# Use negative Indexing to obtain lazy dog\n",
    "# Obtain the Length of the string\n",
    "\n",
    "#--------------- Write your code below----------------------------#\n",
    "text = str('The quick brown fox jumps over the lazy dog')\n",
    "print(text[4:19])\n",
    "print(text[35:])\n",
    "print(text[-8:])\n",
    "print('The length of the string is ', len(text))"
   ]
  },
  {
   "cell_type": "code",
   "execution_count": null,
   "id": "0ddd2e4b",
   "metadata": {},
   "outputs": [],
   "source": [
    "# Assign The quick brown fox jumps over the lazy dog to a Variable(text)\n",
    "# Convert this string above into a list using one of the list methods\n",
    "text = \"The quick brown fox jumps over the lazy dog\"\n",
    "text_list = text.split()\n",
    "\n",
    "print(text_list)\n"
   ]
  },
  {
   "cell_type": "code",
   "execution_count": null,
   "id": "95bf5a31",
   "metadata": {},
   "outputs": [],
   "source": [
    "# Get input from user and Concatenate the code below\n",
    "\n",
    "# Name = What is your name?\n",
    "# Age = How old are you?\n",
    "# State = What is your state of origin?\n",
    "# Profession = What is your profession?\n",
    "# Bio = print(My name is _ and i'm _ years old. I am from _ state and i am _ by profession)\n",
    "\n",
    "#--------------- Write your code below----------------------------#\n",
    "name = ''\n",
    "age = x\n",
    "state = '' \n",
    "profession = '' \n",
    "bio = ('My name is {} and I am {} years old. I am from {} state and I am {} by profession').format(name, age, state, profession)\n",
    "print(bio)"
   ]
  },
  {
   "attachments": {},
   "cell_type": "markdown",
   "id": "6fe1fc4c",
   "metadata": {},
   "source": [
    "## List"
   ]
  },
  {
   "cell_type": "code",
   "execution_count": 15,
   "id": "2d641b73",
   "metadata": {},
   "outputs": [
    {
     "name": "stdout",
     "output_type": "stream",
     "text": [
      "['Abia', 'Adamawa', 'Akwa Ibom', 'Anambra', 'Bayelsa', 'Benue', 'Borno', 'Cross River', 'Nasarawa', 'Niger', 'Ogun', 'Ondo', 'Osun', 'Oyo', 'Plateau', 'Rivers', 'Sokoto', 'Taraba', 'Yobe', 'Zamfara']\n"
     ]
    }
   ],
   "source": [
    "# Create a list of states in Nigeria\n",
    "\n",
    "# Abia\n",
    "# Adamawa\n",
    "# Akwa Ibom\n",
    "# Anambra\n",
    "# Bayelsa\n",
    "# Benue\n",
    "# Borno\n",
    "# Cross River\n",
    "# Nasarawa\n",
    "# Niger\n",
    "# Ogun\n",
    "# Ondo\n",
    "# Osun\n",
    "# Oyo\n",
    "# Plateau\n",
    "# Rivers\n",
    "# Sokoto\n",
    "# Taraba\n",
    "# Yobe\n",
    "# Zamfara\n",
    "\n",
    "# state = []\n",
    "\n",
    "#--------------- Write your code below----------------------------#\n",
    "states = [\n",
    "    'Abia',\n",
    "    'Adamawa',\n",
    "    'Akwa Ibom',\n",
    "    'Anambra',\n",
    "    'Bayelsa',\n",
    "    'Benue',\n",
    "    'Borno',\n",
    "    'Cross River',\n",
    "    'Nasarawa',\n",
    "    'Niger',\n",
    "    'Ogun',\n",
    "    'Ondo',\n",
    "    'Osun',\n",
    "    'Oyo',\n",
    "    'Plateau',\n",
    "    'Rivers',\n",
    "    'Sokoto',\n",
    "    'Taraba',\n",
    "    'Yobe',\n",
    "    'Zamfara'\n",
    "]\n",
    "\n",
    "print(states)\n"
   ]
  },
  {
   "cell_type": "code",
   "execution_count": 16,
   "id": "1e0e8f55",
   "metadata": {},
   "outputs": [
    {
     "name": "stdout",
     "output_type": "stream",
     "text": [
      "The total length of the list is  20\n"
     ]
    }
   ],
   "source": [
    "# Q1: What is the total length of your list\n",
    "\n",
    "#--------------- Write your code below----------------------------#\n",
    "print('The total length of the list is ', len(states))"
   ]
  },
  {
   "cell_type": "code",
   "execution_count": 17,
   "id": "f44286cf",
   "metadata": {},
   "outputs": [
    {
     "data": {
      "text/plain": [
       "('The first 10 states are ',\n",
       " ['Abia',\n",
       "  'Adamawa',\n",
       "  'Akwa Ibom',\n",
       "  'Anambra',\n",
       "  'Bayelsa',\n",
       "  'Benue',\n",
       "  'Borno',\n",
       "  'Cross River',\n",
       "  'Nasarawa',\n",
       "  'Niger'])"
      ]
     },
     "execution_count": 17,
     "metadata": {},
     "output_type": "execute_result"
    }
   ],
   "source": [
    "# Q2: Index and retrieve the first 10\n",
    "\n",
    "#--------------- Write your code below----------------------------#\n",
    "first_10 = 'The first 10 states are ', states[:10]\n",
    "first_10\n"
   ]
  },
  {
   "cell_type": "code",
   "execution_count": 18,
   "id": "3bd430f9",
   "metadata": {},
   "outputs": [
    {
     "name": "stdout",
     "output_type": "stream",
     "text": [
      "Cross River\n",
      "Nasarawa\n",
      "Niger\n",
      "Ogun\n",
      "Ondo\n",
      "Osun\n",
      "Oyo\n",
      "Plateau\n"
     ]
    }
   ],
   "source": [
    "# Q3: Index and retrieve Cross River, Nasarawa, Niger, Ogun, Ondo, Osun, Oyo, Plateau\n",
    "\n",
    "#--------------- Write your code below----------------------------#\n",
    "list_of_states = states[7:15]  # Extracting elements at indices 7 to 16 (inclusive)\n",
    "\n",
    "for state in list_of_states:\n",
    "    print(state)"
   ]
  },
  {
   "cell_type": "code",
   "execution_count": 19,
   "id": "198857ad",
   "metadata": {},
   "outputs": [
    {
     "name": "stdout",
     "output_type": "stream",
     "text": [
      "The last five states are  ['Rivers', 'Sokoto', 'Taraba', 'Yobe', 'Zamfara']\n"
     ]
    }
   ],
   "source": [
    "# Q4: Use Negative indexing to retrieve the last 5 states\n",
    "\n",
    "#--------------- Write your code below----------------------------#\n",
    "len(states)\n",
    "print('The last five states are ', states[-5:])"
   ]
  },
  {
   "attachments": {},
   "cell_type": "markdown",
   "id": "0773f2ff",
   "metadata": {},
   "source": [
    "## Dictionary"
   ]
  },
  {
   "cell_type": "code",
   "execution_count": 20,
   "id": "d6cdbef0",
   "metadata": {},
   "outputs": [
    {
     "name": "stdout",
     "output_type": "stream",
     "text": [
      "The list of governors in Nigeria are  {'Abia': 'nil', 'Anambra': 'Willie Obiano', 'Benue': 'Samuel Ortom', 'Delta': 'Ifeanyi Okowa', 'Ekiti': 'nil', 'Lagos': 'Babajide Sanwo-Olu', 'Plateau': 'Simon Lalong', 'Taraba': 'Arch. Darius Ishaku', 'Kogi': 'Yahaya Bello'}\n"
     ]
    }
   ],
   "source": [
    "# Q1: Create a dictionary of states and governor in Nigeria\n",
    "\n",
    "# Abia State: nil\n",
    "# Anambra State: Willie Obiano\n",
    "# Benue State: Samuel Ortom\n",
    "# Delta State: Ifeanyi Okowa\n",
    "# Ekiti State: nil\n",
    "# Lagos State: Babajide Sanwo-Olu\n",
    "# Plateau State: Simon Lalong\n",
    "# Taraba State: Arch. Darius Ishaku\n",
    "# Kogi State: Yahaya Bello\n",
    "# Anambra State: Willie Obiano\n",
    "\n",
    "#--------------- Write your code below----------------------------#\n",
    "list_of_nigeria_governors = {\n",
    "    'Abia': 'nil',\n",
    "    'Anambra': 'Willie Obiano',\n",
    "    'Benue': 'Samuel Ortom',\n",
    "    'Delta': 'Ifeanyi Okowa',\n",
    "    'Ekiti': 'nil',\n",
    "    'Lagos': 'Babajide Sanwo-Olu',\n",
    "    'Plateau': 'Simon Lalong',\n",
    "    'Taraba': 'Arch. Darius Ishaku',\n",
    "    'Kogi': 'Yahaya Bello'\n",
    "}\n",
    "print('The list of governors in Nigeria are ', list_of_nigeria_governors)"
   ]
  },
  {
   "cell_type": "code",
   "execution_count": 21,
   "id": "f3bff4b5",
   "metadata": {},
   "outputs": [],
   "source": [
    "# Q2: update Abia and Ekiti (Okezie Ikpeazu, Kayode Fayemi)\n",
    "\n",
    "#--------------- Write your code below----------------------------#\n",
    "updated_nigeria_governors_list = {\n",
    "    'Abia': 'Okezie Ikpeazu',\n",
    "    'Ekiti': 'Kayode Fayemi'\n",
    "}\n",
    "\n",
    "list_of_nigeria_governors.update(updated_nigeria_governors_list)\n"
   ]
  },
  {
   "cell_type": "code",
   "execution_count": 22,
   "id": "764b2af7",
   "metadata": {},
   "outputs": [
    {
     "name": "stdout",
     "output_type": "stream",
     "text": [
      "{'Abia': 'Okezie Ikpeazu', 'Anambra': 'Willie Obiano', 'Benue': 'Samuel Ortom', 'Delta': 'Ifeanyi Okowa', 'Ekiti': 'Kayode Fayemi', 'Lagos': 'Babajide Sanwo-Olu', 'Plateau': 'Simon Lalong', 'Taraba': 'Arch. Darius Ishaku', 'Kogi': 'Yahaya Bello'}\n"
     ]
    }
   ],
   "source": [
    "print(list_of_nigeria_governors\n",
    ")"
   ]
  },
  {
   "cell_type": "code",
   "execution_count": 23,
   "id": "24ca3ef2",
   "metadata": {},
   "outputs": [
    {
     "name": "stdout",
     "output_type": "stream",
     "text": [
      "{'Abia': 'Okezie Ikpeazu', 'Anambra': 'Willie Obiano', 'Benue': 'Samuel Ortom', 'Delta': 'Ifeanyi Okowa', 'Ekiti': 'Kayode Fayemi', 'Lagos': 'Babajide Sanwo-Olu', 'Plateau': 'Simon Lalong', 'Taraba': 'Arch. Darius Ishaku', 'Kogi': 'Yahaya Bello', 'Cross River': 'Benedict Ayade', 'Ebonyi': 'Dave Umahi', 'Sokoto': 'Aminu waziri Tambuwal'}\n"
     ]
    }
   ],
   "source": [
    "# Q3: Add\n",
    "# Cross River State: Benedict Ayade\n",
    "# Ebonyi State: Dave Umahi\n",
    "# Sokoto State: Aminu Waziri Tambuwal\n",
    "\n",
    "#--------------- Write your code below----------------------------#\n",
    "added_list_of_nigeria_governors = {\n",
    "    'Cross River': 'Benedict Ayade',\n",
    "    'Ebonyi': 'Dave Umahi',\n",
    "    'Sokoto': 'Aminu waziri Tambuwal'\n",
    "}\n",
    "list_of_nigeria_governors.update(added_list_of_nigeria_governors)\n",
    "print(list_of_nigeria_governors)"
   ]
  },
  {
   "cell_type": "code",
   "execution_count": 24,
   "id": "6ec34dfd",
   "metadata": {},
   "outputs": [],
   "source": [
    "# Q4: Remove Lagos, Sokoto, taraba and Kogi from the dictionary\n",
    "\n",
    "#--------------- Write your code below----------------------------#\n",
    "del list_of_nigeria_governors['Lagos']"
   ]
  },
  {
   "cell_type": "code",
   "execution_count": 25,
   "id": "b7a6aa37",
   "metadata": {},
   "outputs": [
    {
     "name": "stdout",
     "output_type": "stream",
     "text": [
      "{'Abia': 'Okezie Ikpeazu', 'Anambra': 'Willie Obiano', 'Benue': 'Samuel Ortom', 'Delta': 'Ifeanyi Okowa', 'Ekiti': 'Kayode Fayemi', 'Plateau': 'Simon Lalong', 'Taraba': 'Arch. Darius Ishaku', 'Kogi': 'Yahaya Bello', 'Cross River': 'Benedict Ayade', 'Ebonyi': 'Dave Umahi', 'Sokoto': 'Aminu waziri Tambuwal'}\n"
     ]
    }
   ],
   "source": [
    "print(list_of_nigeria_governors)"
   ]
  },
  {
   "cell_type": "code",
   "execution_count": 28,
   "id": "dc172a02",
   "metadata": {},
   "outputs": [],
   "source": [
    "del list_of_nigeria_governors['Sokoto']"
   ]
  },
  {
   "cell_type": "code",
   "execution_count": 29,
   "id": "52d9e6a1",
   "metadata": {},
   "outputs": [],
   "source": [
    "del list_of_nigeria_governors['Taraba']\n",
    "del list_of_nigeria_governors['Kogi']"
   ]
  },
  {
   "cell_type": "code",
   "execution_count": 30,
   "id": "bde867d1",
   "metadata": {},
   "outputs": [
    {
     "name": "stdout",
     "output_type": "stream",
     "text": [
      "{'Abia': 'Okezie Ikpeazu', 'Anambra': 'Willie Obiano', 'Benue': 'Samuel Ortom', 'Delta': 'Ifeanyi Okowa', 'Ekiti': 'Kayode Fayemi', 'Plateau': 'Simon Lalong', 'Cross River': 'Benedict Ayade', 'Ebonyi': 'Dave Umahi'}\n"
     ]
    }
   ],
   "source": [
    "print(list_of_nigeria_governors)"
   ]
  },
  {
   "attachments": {},
   "cell_type": "markdown",
   "id": "6bd8488b",
   "metadata": {},
   "source": [
    "# General"
   ]
  },
  {
   "cell_type": "code",
   "execution_count": 33,
   "id": "dae1d5c5",
   "metadata": {},
   "outputs": [
    {
     "name": "stdout",
     "output_type": "stream",
     "text": [
      "{'Oyo', 'Cross River', 'Ebonyi', 'Ogun', 'Lagos', 'Kwara', 'Kano', 'Katsina'}\n"
     ]
    }
   ],
   "source": [
    "# Q1: Remove duplicates in the below items with one of Python's datatypes:\n",
    "#Lagos, Kwara, Ogun, Ebonyi, Kano, Katsina, Oyo, Kwara, Cross River\n",
    "\n",
    "#--------------- Write your code below----------------------------#\n",
    "database = ['Lagos', 'Kwara', 'Ogun', 'Ebonyi', 'Kano', 'Katsina', 'Oyo', 'Kwara', 'Cross River']\n",
    "database = set(database)\n",
    "print(database)\n"
   ]
  },
  {
   "cell_type": "code",
   "execution_count": 34,
   "id": "088ccf5d",
   "metadata": {},
   "outputs": [
    {
     "name": "stdout",
     "output_type": "stream",
     "text": [
      "The length of the database data type is  8\n"
     ]
    }
   ],
   "source": [
    "# Q2: What is the length of the datatype?\n",
    "\n",
    "#--------------- Write your code below----------------------------#\n",
    "print('The length of the database data type is ', len(database))"
   ]
  },
  {
   "cell_type": "code",
   "execution_count": 37,
   "id": "55068436",
   "metadata": {},
   "outputs": [
    {
     "name": "stdout",
     "output_type": "stream",
     "text": [
      "('Oyo', 'Cross River', 'Ebonyi', 'Ogun', 'Lagos', 'Kwara', 'Kano', 'Katsina')\n"
     ]
    }
   ],
   "source": [
    "# Q3: What datatype ensures its elements are immutable?\n",
    "\n",
    "#--------------- Write your answer below----------------------------#\n",
    "database = tuple(database)\n",
    "print(database)"
   ]
  },
  {
   "cell_type": "code",
   "execution_count": null,
   "id": "1b31b6b1",
   "metadata": {},
   "outputs": [],
   "source": [
    "# Q4: What datatype of Python houses unordered elements?\n",
    "\n",
    "#--------------- Write your answer below----------------------------#\n",
    "#The datatype of python that houses unordered elements is called set."
   ]
  }
 ],
 "metadata": {
  "kernelspec": {
   "display_name": "Python 3 (ipykernel)",
   "language": "python",
   "name": "python3"
  },
  "language_info": {
   "codemirror_mode": {
    "name": "ipython",
    "version": 3
   },
   "file_extension": ".py",
   "mimetype": "text/x-python",
   "name": "python",
   "nbconvert_exporter": "python",
   "pygments_lexer": "ipython3",
   "version": "3.11.3"
  }
 },
 "nbformat": 4,
 "nbformat_minor": 5
}
