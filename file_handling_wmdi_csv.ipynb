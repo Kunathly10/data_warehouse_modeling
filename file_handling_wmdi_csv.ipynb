{
 "cells": [
  {
   "cell_type": "markdown",
   "metadata": {},
   "source": [
    "Handling files with the with the WITH statement\n",
    "\n",
    "The 'With' statement ensures the file closes after the execution of the file handling process."
   ]
  },
  {
   "cell_type": "code",
   "execution_count": 2,
   "metadata": {},
   "outputs": [],
   "source": [
    "file = open('new_file.txt', 'x')"
   ]
  },
  {
   "cell_type": "code",
   "execution_count": 3,
   "metadata": {},
   "outputs": [],
   "source": [
    "with open('new_file.txt', 'a') as txtfile:\n",
    "    txtfile.write('Nice work from the with statement\\nAnd can you explain it better')"
   ]
  },
  {
   "cell_type": "markdown",
   "metadata": {},
   "source": [
    "To handle a csv file, you need to first import the csv module."
   ]
  },
  {
   "cell_type": "code",
   "execution_count": 4,
   "metadata": {},
   "outputs": [],
   "source": [
    "import csv"
   ]
  },
  {
   "cell_type": "code",
   "execution_count": 17,
   "metadata": {},
   "outputs": [],
   "source": [
    "#to write into a csv row one by one\n",
    "with open('students.csv', 'w', newline='') as csvfile: #to create a student.csv file\n",
    "    file = csv.writer(csvfile, delimiter=',')\n",
    "    file.writerow(['Name', 'School']) # first the header\n",
    "    file.writerow(['Nate', '10Alytics']) #contents of the headerr now\n",
    "    file.writerow(['Jane','20Science'])\n",
    "    "
   ]
  },
  {
   "cell_type": "code",
   "execution_count": 18,
   "metadata": {},
   "outputs": [],
   "source": [
    "data = [[\"Name\", \"Age\", \"Occupation\"],\n",
    "        [\"Alice\", 30, \"Engineer\"],\n",
    "        [\"Bob\", 25, \"Data Scientist\"]]\n",
    "with open('sample.csv', 'w', newline='') as file:\n",
    "    writer= csv.writer(file)\n",
    "    writer.writerows(data)"
   ]
  },
  {
   "cell_type": "code",
   "execution_count": null,
   "metadata": {},
   "outputs": [],
   "source": [
    "#to write into a multiple csv row at once.\n",
    "with open('multiple_csv_row.csv', 'w')"
   ]
  }
 ],
 "metadata": {
  "kernelspec": {
   "display_name": "Python 3",
   "language": "python",
   "name": "python3"
  },
  "language_info": {
   "codemirror_mode": {
    "name": "ipython",
    "version": 3
   },
   "file_extension": ".py",
   "mimetype": "text/x-python",
   "name": "python",
   "nbconvert_exporter": "python",
   "pygments_lexer": "ipython3",
   "version": "3.11.3"
  },
  "orig_nbformat": 4
 },
 "nbformat": 4,
 "nbformat_minor": 2
}
