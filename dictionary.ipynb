{
 "cells": [
  {
   "cell_type": "code",
   "execution_count": 2,
   "metadata": {},
   "outputs": [
    {
     "name": "stdout",
     "output_type": "stream",
     "text": [
      "{'name': 'Nathaniel', 'department': 'Biology', 'level': 200, 'registration_date': '2022-20-2', 'is_owing': False, 'course_offered': ('Biology', 'Math')}\n"
     ]
    }
   ],
   "source": [
    "#dictionaries can house different data types\n",
    "#it is a key:value\n",
    "student = {\n",
    "    'name': 'Nathaniel',\n",
    "    'department': 'Biology',\n",
    "    'level': 200,\n",
    "    'registration_date': '2022-20-2',\n",
    "    'is_owing': False,\n",
    "    'course_offered': ('Biology', 'Math')\n",
    "}\n",
    "print(student)"
   ]
  },
  {
   "cell_type": "code",
   "execution_count": null,
   "metadata": {},
   "outputs": [],
   "source": []
  },
  {
   "cell_type": "code",
   "execution_count": null,
   "metadata": {},
   "outputs": [],
   "source": []
  }
 ],
 "metadata": {
  "kernelspec": {
   "display_name": "Python 3",
   "language": "python",
   "name": "python3"
  },
  "language_info": {
   "codemirror_mode": {
    "name": "ipython",
    "version": 3
   },
   "file_extension": ".py",
   "mimetype": "text/x-python",
   "name": "python",
   "nbconvert_exporter": "python",
   "pygments_lexer": "ipython3",
   "version": "3.11.3"
  },
  "orig_nbformat": 4
 },
 "nbformat": 4,
 "nbformat_minor": 2
}
