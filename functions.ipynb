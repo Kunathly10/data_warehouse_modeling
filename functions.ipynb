{
 "cells": [
  {
   "cell_type": "markdown",
   "metadata": {},
   "source": [
    "# Functions\n",
    "- functions are a block of code that executes only when it is called\n",
    "- they are used for grouping related code\n",
    "- functions help with arrangement and readability\n",
    "- to create a function in python, we use the `def` keyword, the name of the function, then parenthesis and a column.\n",
    "- every block of code belonging to a function must be indented within that function\n",
    "- Syntax:\n",
    "    ```\n",
    "    def function_name():\n",
    "        return ''\n",
    "    ```"
   ]
  },
  {
   "cell_type": "markdown",
   "metadata": {},
   "source": [
    "\n",
    "    - A defined function does not execute until it is called"
   ]
  },
  {
   "cell_type": "code",
   "execution_count": null,
   "metadata": {},
   "outputs": [],
   "source": [
    "print('Hello')"
   ]
  },
  {
   "cell_type": "code",
   "execution_count": null,
   "metadata": {},
   "outputs": [],
   "source": [
    "#  define a function that prints \"Hello, Mark!\"\n",
    "def greet_mark():\n",
    "    print('Hello Mark!')"
   ]
  },
  {
   "cell_type": "code",
   "execution_count": null,
   "metadata": {},
   "outputs": [],
   "source": [
    "# call the greet_mark function so that it executes the code block within it\n",
    "greet_mark()"
   ]
  },
  {
   "cell_type": "markdown",
   "metadata": {},
   "source": [
    "    - a function can house any line or block of code.\n",
    "    - variable declarations, if statements, loops and anything at all can be within a function"
   ]
  },
  {
   "cell_type": "code",
   "execution_count": null,
   "metadata": {},
   "outputs": [],
   "source": [
    "# the code below converts the name 'MARK' to lower case and prints the result\n",
    "\n",
    "name = 'MARK'\n",
    "name_in_lowercase = name.lower()\n",
    "print(name_in_lowercase)"
   ]
  },
  {
   "cell_type": "code",
   "execution_count": null,
   "metadata": {},
   "outputs": [],
   "source": [
    "# we can create a function that does exactly this\n",
    "\n",
    "def convert_to_lowercase():\n",
    "    name = 'MARK'\n",
    "    name_in_lowercase = name.lower()\n",
    "    print(name_in_lowercase)"
   ]
  },
  {
   "cell_type": "code",
   "execution_count": null,
   "metadata": {},
   "outputs": [],
   "source": [
    "# ...and then call the function to execute the code within\n",
    "\n",
    "convert_to_lowercase()"
   ]
  },
  {
   "cell_type": "markdown",
   "metadata": {},
   "source": [
    "    - the main difference between the code within the function and without is the moment of execution\n",
    "    - the code outside a function executes immediately the cell is run\n",
    "    - the code inside a function does not execute until the function is called"
   ]
  },
  {
   "cell_type": "code",
   "execution_count": null,
   "metadata": {},
   "outputs": [],
   "source": []
  },
  {
   "cell_type": "code",
   "execution_count": null,
   "metadata": {},
   "outputs": [],
   "source": []
  },
  {
   "cell_type": "markdown",
   "metadata": {},
   "source": [
    "## Arguments\n",
    "- if the objects to be worked on are not yet known, functions can receive placeholders for them called arguments\n",
    "- and then when these objects are known, the placeholders can then be replaced by the actual values"
   ]
  },
  {
   "cell_type": "markdown",
   "metadata": {},
   "source": [
    "-  Remember the function that converts the string 'MARK' to lowercase?\n",
    "    ```\n",
    "        def convert_to_lowercase():\n",
    "        name = 'MARK'\n",
    "        name_in_lowercase = name.lower()\n",
    "        print(name_in_lowercase)\n",
    "    ```\n",
    "- assume the string to be converted was not known upon function definition.\n",
    "- we will define our function as below:\n",
    "    "
   ]
  },
  {
   "cell_type": "code",
   "execution_count": null,
   "metadata": {},
   "outputs": [],
   "source": [
    "# defining functions with arguments\n",
    "\n",
    "def convert_to_lowercase(name):\n",
    "    name_in_lowercase = name.lower()\n",
    "    print(name_in_lowercase)"
   ]
  },
  {
   "cell_type": "code",
   "execution_count": null,
   "metadata": {},
   "outputs": [],
   "source": [
    "# ... when it's time to execute the function, we can then put in the actual value between the parenthesis\n",
    "\n",
    "convert_to_lowercase('MARK')"
   ]
  },
  {
   "cell_type": "code",
   "execution_count": null,
   "metadata": {},
   "outputs": [],
   "source": [
    "# this function can be resused as many times as possible with different arguments\n",
    "\n",
    "convert_to_lowercase('RAYMOND')\n",
    "convert_to_lowercase('FELIX')\n",
    "convert_to_lowercase('RITA')"
   ]
  },
  {
   "cell_type": "code",
   "execution_count": 1,
   "metadata": {},
   "outputs": [
    {
     "name": "stdout",
     "output_type": "stream",
     "text": [
      "HELLO, WORLD!\n"
     ]
    }
   ],
   "source": [
    "# Quiz One: Define a function that takes an argument\n",
    "#           Check the datatype of the argument\n",
    "#           If the datatype is not a string, print the statement below:\n",
    "#               \"This function requires a string\"\n",
    "#           If it is a string datatype, convert each word to uppercase and print the result\n",
    "#           Call your function in the cell beneath\n",
    "def process_string(argument):\n",
    "    if type(argument) != str:\n",
    "        print(\"This function requires a string\")\n",
    "    else:\n",
    "        converted_string = argument.upper()\n",
    "        print(converted_string)\n",
    "\n",
    "# Call the function\n",
    "process_string(\"Hello, world!\")\n",
    "\n"
   ]
  },
  {
   "cell_type": "code",
   "execution_count": null,
   "metadata": {},
   "outputs": [],
   "source": []
  },
  {
   "cell_type": "markdown",
   "metadata": {},
   "source": [
    "## the RETURN keyword\n",
    "\n",
    "- Use One: to indicate the end of the function (or to terminate the execution of code in a function)\n",
    "- return indicates the end of an execution."
   ]
  },
  {
   "cell_type": "code",
   "execution_count": 20,
   "metadata": {},
   "outputs": [],
   "source": [
    "# Consider the code below:\n",
    "\n",
    "def print_string(string):\n",
    "    if (type(string) != str) or (len(string) == 0): \n",
    "        return \n",
    "    print(string)"
   ]
  },
  {
   "cell_type": "code",
   "execution_count": 21,
   "metadata": {},
   "outputs": [
    {
     "name": "stdout",
     "output_type": "stream",
     "text": [
      "s\n"
     ]
    }
   ],
   "source": [
    "\n",
    "print_string('s')"
   ]
  },
  {
   "cell_type": "code",
   "execution_count": null,
   "metadata": {},
   "outputs": [],
   "source": []
  },
  {
   "cell_type": "markdown",
   "metadata": {},
   "source": [
    "## the RETURN keyword\n",
    "- Use Two: gives the user a value after execution"
   ]
  },
  {
   "cell_type": "code",
   "execution_count": 22,
   "metadata": {},
   "outputs": [],
   "source": [
    "# Consider the code below:\n",
    "\n",
    "def convert_to_title_case(obj):\n",
    "    if type(obj) != str:\n",
    "        print('This function requires a string')\n",
    "    if type(obj) == str:\n",
    "        capitalised_object = obj.title()\n",
    "        print(capitalised_object)"
   ]
  },
  {
   "cell_type": "markdown",
   "metadata": {},
   "source": [
    "    - since functions are objects, they can be assigned to a variable"
   ]
  },
  {
   "cell_type": "code",
   "execution_count": 23,
   "metadata": {},
   "outputs": [
    {
     "name": "stdout",
     "output_type": "stream",
     "text": [
      "This Is A Boy\n"
     ]
    }
   ],
   "source": [
    "response = convert_to_title_case('THIS IS a boy')"
   ]
  },
  {
   "cell_type": "markdown",
   "metadata": {},
   "source": [
    "    - if we print the response variable, we get a response of None"
   ]
  },
  {
   "cell_type": "code",
   "execution_count": 24,
   "metadata": {},
   "outputs": [
    {
     "name": "stdout",
     "output_type": "stream",
     "text": [
      "None\n"
     ]
    }
   ],
   "source": [
    "print(response)"
   ]
  },
  {
   "cell_type": "markdown",
   "metadata": {},
   "source": [
    "    - this is because our function does not return a value; it only prints some line of code\n",
    "    - the return keyword ensures that at the end of the execution of the function, a value is deliberately returned"
   ]
  },
  {
   "cell_type": "code",
   "execution_count": null,
   "metadata": {},
   "outputs": [],
   "source": [
    "def convert_to_title_case(obj):\n",
    "    if type(obj) != str:\n",
    "        print('This function requires a string') # execution of the code continues in the next line\n",
    "    if type(obj) == str:\n",
    "        capitalised_object = obj.title()\n",
    "        print(capitalised_object)"
   ]
  },
  {
   "cell_type": "code",
   "execution_count": null,
   "metadata": {},
   "outputs": [],
   "source": [
    "def convert_to_title_case(obj):\n",
    "    if type(obj) != str:\n",
    "        return ('This function requires a string') # execution stops\n",
    "    if type(obj) == str:\n",
    "        capitalised_object = obj.title()\n",
    "        return capitalised_object"
   ]
  },
  {
   "cell_type": "code",
   "execution_count": null,
   "metadata": {},
   "outputs": [],
   "source": [
    "response = convert_to_title_case('dolphins are mammals') # when this cell is run, nothing is printed"
   ]
  },
  {
   "cell_type": "code",
   "execution_count": null,
   "metadata": {},
   "outputs": [],
   "source": [
    "# until you print the response, you wouldn't see the result of the function\n",
    "\n",
    "print(response)"
   ]
  },
  {
   "cell_type": "markdown",
   "metadata": {},
   "source": [
    "     ==> No line of code goes beneath the RETURN keyword within the same indent in a function"
   ]
  },
  {
   "cell_type": "code",
   "execution_count": null,
   "metadata": {},
   "outputs": [],
   "source": [
    "def check_integer_type(number):\n",
    "    if type(number) != int:\n",
    "        return 'This is not an integer' \n",
    "    if number == 10:\n",
    "        return 'This is number 10' # execution stops here if condition is met\n",
    "    if number % 2 == 0:\n",
    "        return '{} is divisible by 2'.format(number)"
   ]
  },
  {
   "cell_type": "code",
   "execution_count": null,
   "metadata": {},
   "outputs": [],
   "source": [
    "integer_type = check_integer_type(10)"
   ]
  },
  {
   "cell_type": "code",
   "execution_count": null,
   "metadata": {},
   "outputs": [],
   "source": [
    "integer_type"
   ]
  },
  {
   "cell_type": "markdown",
   "metadata": {},
   "source": [
    "### Do you remember?\n"
   ]
  },
  {
   "cell_type": "code",
   "execution_count": 28,
   "metadata": {},
   "outputs": [],
   "source": [
    "# Quiz Two: Add 'apple' to the list below:\n",
    "\n",
    "fruits = ['mango', 'pear', 'orange']\n"
   ]
  },
  {
   "cell_type": "code",
   "execution_count": 29,
   "metadata": {},
   "outputs": [],
   "source": [
    "fruits.append('apple')"
   ]
  },
  {
   "cell_type": "code",
   "execution_count": 30,
   "metadata": {},
   "outputs": [
    {
     "data": {
      "text/plain": [
       "['mango', 'pear', 'orange', 'apple']"
      ]
     },
     "execution_count": 30,
     "metadata": {},
     "output_type": "execute_result"
    }
   ],
   "source": [
    "fruits"
   ]
  },
  {
   "cell_type": "code",
   "execution_count": 38,
   "metadata": {},
   "outputs": [
    {
     "name": "stdout",
     "output_type": "stream",
     "text": [
      "['goat', 'leaf', 'books']\n",
      "['goat', 'leaf', 'books', ['cars', 'lions', 'bears']]\n"
     ]
    }
   ],
   "source": [
    "# Quiz Two: Write a function that adds any item to the end of the existing list (random_items) and returns resulting list\n",
    "\n",
    "random_items = ['goat', 'leaf']\n",
    "\n",
    "# test your function with the below parameters:\n",
    "item1 = 'books'\n",
    "item2 = ['cars', 'lions', 'bears']\n",
    "random_items = ['goat', 'leaf']\n",
    "\n",
    "def add_list(item):\n",
    "    random_items.append(item)\n",
    "    return random_items\n",
    "\n",
    "# Test the function\n",
    "item1 = 'books'\n",
    "item2 = ['cars', 'lions', 'bears']\n",
    "\n",
    "result1 = add_list(item1)\n",
    "print(result1)  # Output: ['goat', 'leaf', 'books']\n",
    "\n",
    "result2 = add_list(item2)\n",
    "print(result2)  # Output: ['goat', 'leaf', ['cars', 'lions', 'bears']]\n"
   ]
  },
  {
   "cell_type": "code",
   "execution_count": 34,
   "metadata": {},
   "outputs": [],
   "source": [
    "add_list(item1)"
   ]
  },
  {
   "cell_type": "code",
   "execution_count": 36,
   "metadata": {},
   "outputs": [
    {
     "data": {
      "text/plain": [
       "['goat', 'leaf']"
      ]
     },
     "execution_count": 36,
     "metadata": {},
     "output_type": "execute_result"
    }
   ],
   "source": [
    "random_items"
   ]
  }
 ],
 "metadata": {
  "kernelspec": {
   "display_name": "Python 3",
   "language": "python",
   "name": "python3"
  },
  "language_info": {
   "codemirror_mode": {
    "name": "ipython",
    "version": 3
   },
   "file_extension": ".py",
   "mimetype": "text/x-python",
   "name": "python",
   "nbconvert_exporter": "python",
   "pygments_lexer": "ipython3",
   "version": "3.11.3"
  },
  "orig_nbformat": 4
 },
 "nbformat": 4,
 "nbformat_minor": 2
}
