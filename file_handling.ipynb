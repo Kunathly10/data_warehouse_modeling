{
 "cells": [
  {
   "cell_type": "code",
   "execution_count": null,
   "metadata": {},
   "outputs": [],
   "source": []
  },
  {
   "cell_type": "markdown",
   "metadata": {},
   "source": [
    "# File Handling\n",
    "\n",
    "File handling is a crucial part of Data Engineering. <br>\n",
    "It is necessary to know how to read and write to files of different formats<br>\n",
    "The most common formats are csv, json, xlxs.<br>\n",
    "Other big data formats are AVRO, Parquet, ORC.<br>\n",
    "\n",
    "In Python, the `open()` function is used to interact with files<br><br>\n",
    "Syntax:\n",
    "```\n",
    "open(file_name, mode)\n",
    "```"
   ]
  },
  {
   "cell_type": "markdown",
   "metadata": {},
   "source": [
    "### File Modes\n",
    "    - Create   (x) to create a file that doesn't exist in the specified directory\n",
    "    - Read     (r) reads the content of the file\n",
    "    - Append   (a) add to the content of an existing file\n",
    "    - Write    (w) creates a file (if it does not exist), and overwrites the content of that file"
   ]
  },
  {
   "cell_type": "markdown",
   "metadata": {},
   "source": [
    "### Create a `.txt` file"
   ]
  },
  {
   "cell_type": "markdown",
   "metadata": {},
   "source": [
    "    always ensure you close a file after it is opened\n",
    "    to close a file, use the .close() method"
   ]
  },
  {
   "cell_type": "markdown",
   "metadata": {},
   "source": [
    "### Exercise 1\n",
    "\n",
    "create a .txt file in your current working directory<br>\n",
    "==> Do not forget to close your file "
   ]
  },
  {
   "cell_type": "code",
   "execution_count": 6,
   "metadata": {},
   "outputs": [],
   "source": [
    "# create a .txt file in your current working directory\n",
    "# ==> Do not forget to close your file \n",
    "school = open('students_lists', 'x')"
   ]
  },
  {
   "cell_type": "code",
   "execution_count": 7,
   "metadata": {},
   "outputs": [],
   "source": [
    "school.close()"
   ]
  },
  {
   "cell_type": "markdown",
   "metadata": {},
   "source": [
    "### Write to a `.txt` file\n",
    "If the file given does not exist, a new file with the specified name will be created<br>\n",
    "The content of the file will be OVERWRITTEN"
   ]
  },
  {
   "cell_type": "markdown",
   "metadata": {},
   "source": [
    "    First, open the file in write mode ('w')\n"
   ]
  },
  {
   "cell_type": "code",
   "execution_count": 8,
   "metadata": {},
   "outputs": [],
   "source": [
    "file = open('demo.txt', 'w')"
   ]
  },
  {
   "cell_type": "markdown",
   "metadata": {},
   "source": [
    "    use the .write() method (with a string as an argument) to write to the file"
   ]
  },
  {
   "cell_type": "code",
   "execution_count": 9,
   "metadata": {},
   "outputs": [
    {
     "data": {
      "text/plain": [
       "17"
      ]
     },
     "execution_count": 9,
     "metadata": {},
     "output_type": "execute_result"
    }
   ],
   "source": [
    "file.write('Hello, Everyone')\n",
    "file.write(\"\\nIt's a good day!\")"
   ]
  },
  {
   "cell_type": "code",
   "execution_count": 10,
   "metadata": {},
   "outputs": [],
   "source": [
    "# always remember to close your file\n",
    "\n",
    "file.close()"
   ]
  },
  {
   "cell_type": "markdown",
   "metadata": {},
   "source": [
    "### Exercise 2\n",
    "\n",
    "Create a new file and write to that file a string of multiple lines<br>\n",
    "==> Remember to close your file"
   ]
  },
  {
   "cell_type": "code",
   "execution_count": 11,
   "metadata": {},
   "outputs": [],
   "source": [
    "\n",
    "nate = open('nate', 'w')"
   ]
  },
  {
   "cell_type": "code",
   "execution_count": 12,
   "metadata": {},
   "outputs": [
    {
     "data": {
      "text/plain": [
       "16"
      ]
     },
     "execution_count": 12,
     "metadata": {},
     "output_type": "execute_result"
    }
   ],
   "source": [
    "nate.write(\"\"\"\n",
    "My name is Nate\"\"\")"
   ]
  },
  {
   "cell_type": "code",
   "execution_count": 13,
   "metadata": {},
   "outputs": [],
   "source": [
    "nate.close()"
   ]
  },
  {
   "cell_type": "markdown",
   "metadata": {},
   "source": [
    "### Read a `.txt` file\n",
    "\n",
    "To read a `.txt` file, the file path specified has to exist<br>\n",
    "Specify the `r` mode when opening the file"
   ]
  },
  {
   "cell_type": "code",
   "execution_count": 14,
   "metadata": {},
   "outputs": [],
   "source": [
    "file = open('demo.txt', 'r')"
   ]
  },
  {
   "cell_type": "markdown",
   "metadata": {},
   "source": [
    "#### read the content of a file\n",
    "\n",
    "- .read()      - returns the content of this file in a `string`\n",
    "- .readline()  - returns the content of the file _*one line at a time*_ in a `string` \n",
    "- .readlines() - returns the content of a file in a `list` of `strings` "
   ]
  },
  {
   "cell_type": "code",
   "execution_count": 15,
   "metadata": {},
   "outputs": [
    {
     "name": "stdout",
     "output_type": "stream",
     "text": [
      "Hello, Everyone\n",
      "It's a good day!\n"
     ]
    }
   ],
   "source": [
    "print(file.read()) # returns all of the content of the file\n",
    "file.close()"
   ]
  },
  {
   "cell_type": "code",
   "execution_count": 16,
   "metadata": {},
   "outputs": [
    {
     "data": {
      "text/plain": [
       "'Hello, Everyone\\n'"
      ]
     },
     "execution_count": 16,
     "metadata": {},
     "output_type": "execute_result"
    }
   ],
   "source": [
    "file = open('demo.txt', 'r')\n",
    "file.readline()  # returns one line at a time in a string"
   ]
  },
  {
   "cell_type": "code",
   "execution_count": 17,
   "metadata": {},
   "outputs": [
    {
     "name": "stdout",
     "output_type": "stream",
     "text": [
      "It's a good day!\n"
     ]
    }
   ],
   "source": [
    "print(file.readline())"
   ]
  },
  {
   "cell_type": "code",
   "execution_count": 18,
   "metadata": {},
   "outputs": [],
   "source": [
    "file.close()"
   ]
  },
  {
   "cell_type": "code",
   "execution_count": 19,
   "metadata": {},
   "outputs": [
    {
     "name": "stdout",
     "output_type": "stream",
     "text": [
      "['Hello, Everyone\\n', \"It's a good day!\"]\n"
     ]
    }
   ],
   "source": [
    "file = open('demo.txt', 'r')\n",
    "file_content = file.readlines() # assign the content of the file to a variable\n",
    "print(file_content)"
   ]
  },
  {
   "cell_type": "markdown",
   "metadata": {},
   "source": [
    "#### we can loop through the `file_content` variable"
   ]
  },
  {
   "cell_type": "code",
   "execution_count": 20,
   "metadata": {},
   "outputs": [
    {
     "name": "stdout",
     "output_type": "stream",
     "text": [
      "This is a new line:  Hello, Everyone\n",
      "\n",
      "This is a new line:  It's a good day!\n"
     ]
    }
   ],
   "source": [
    "for line in file_content:\n",
    "    print('This is a new line: ', line)"
   ]
  },
  {
   "cell_type": "code",
   "execution_count": 21,
   "metadata": {},
   "outputs": [],
   "source": [
    "file.close()"
   ]
  },
  {
   "cell_type": "markdown",
   "metadata": {},
   "source": [
    "### Recap (Create, Read, Write)"
   ]
  },
  {
   "cell_type": "code",
   "execution_count": 22,
   "metadata": {},
   "outputs": [],
   "source": [
    "# Create and write to a file\n",
    "filename = 'new_file.txt'   # store the file name in a variable\n",
    "\n",
    "new_file = open(filename, 'w')     # we can create a file directly in the write mode\n",
    "new_file.write('''It's a beautiful day today!\n",
    "Life is awesome!\n",
    "Don't be scared to fail.\n",
    "Just try try try again!\n",
    "''')\n",
    "new_file.close()"
   ]
  },
  {
   "cell_type": "code",
   "execution_count": 23,
   "metadata": {},
   "outputs": [
    {
     "name": "stdout",
     "output_type": "stream",
     "text": [
      "It's a beautiful day today!\n",
      "\n",
      "Life is awesome!\n",
      "\n",
      "Don't be scared to fail.\n",
      "\n",
      "Just try try try again!\n",
      "\n"
     ]
    }
   ],
   "source": [
    "# read the file\n",
    "\n",
    "new_file = open(filename, 'r')\n",
    "for line in new_file.readlines():\n",
    "    print(line)"
   ]
  },
  {
   "cell_type": "code",
   "execution_count": 24,
   "metadata": {},
   "outputs": [
    {
     "data": {
      "text/plain": [
       "\"It's a beautiful day today!\\n\""
      ]
     },
     "execution_count": 24,
     "metadata": {},
     "output_type": "execute_result"
    }
   ],
   "source": [
    "new_file = open(filename, 'r')\n",
    "new_file.readline()"
   ]
  },
  {
   "cell_type": "code",
   "execution_count": null,
   "metadata": {},
   "outputs": [],
   "source": []
  },
  {
   "cell_type": "markdown",
   "metadata": {},
   "source": [
    "### Append a `.txt` file"
   ]
  },
  {
   "cell_type": "markdown",
   "metadata": {},
   "source": [
    "The append mode allows you to write to a file without overwriting it.<br>\n",
    "The provided content is placed at the end of the file<br>\n",
    "Specify the `'a'` mode when opening the file"
   ]
  },
  {
   "cell_type": "code",
   "execution_count": 25,
   "metadata": {},
   "outputs": [],
   "source": [
    "file_name = 'demo.txt'\n",
    "reopened_file = open(file_name, 'a')\n",
    "reopened_file.write('\\nI hope you have a good day!') \n",
    "reopened_file.close() # don't forget to close your file"
   ]
  },
  {
   "cell_type": "code",
   "execution_count": null,
   "metadata": {},
   "outputs": [],
   "source": []
  },
  {
   "cell_type": "code",
   "execution_count": null,
   "metadata": {},
   "outputs": [],
   "source": []
  },
  {
   "cell_type": "markdown",
   "metadata": {},
   "source": [
    "### Handling files with the `With` statement\n",
    "\n",
    "The `With` keyword ensures the file closes after the execution of the file handling process"
   ]
  },
  {
   "cell_type": "code",
   "execution_count": 26,
   "metadata": {},
   "outputs": [
    {
     "name": "stdout",
     "output_type": "stream",
     "text": [
      "Hello, Everyone\n",
      "It's a good day!\n",
      "I hope you have a good day!\n"
     ]
    }
   ],
   "source": [
    "with open('demo.txt', 'r') as file:\n",
    "    filecontent = file.readlines()\n",
    "    for line in filecontent:\n",
    "        print(line.strip())"
   ]
  },
  {
   "cell_type": "code",
   "execution_count": null,
   "metadata": {},
   "outputs": [],
   "source": []
  },
  {
   "cell_type": "markdown",
   "metadata": {},
   "source": [
    "### Exercise 3\n",
    "Write a function that takes a `file name` as an argument<br>\n",
    "The function should:<br>\n",
    "`Read` the specified file, and <br>\n",
    "`Print` the content of the file"
   ]
  },
  {
   "cell_type": "code",
   "execution_count": null,
   "metadata": {},
   "outputs": [],
   "source": []
  },
  {
   "cell_type": "markdown",
   "metadata": {},
   "source": [
    "### Exercise 4\n",
    "\n",
    "Part 1:<br>\n",
    "    Define a function that takes another function as an argument<br>\n",
    "    The function should:<br>\n",
    "        `execute` the argument function, and<br>\n",
    "        `return` the name of the argument function, and the result of that function in a `dictionary`<br><br>\n",
    "Part 2:<br>\n",
    "    convert the tuple to a string and save it to a .txt file"
   ]
  },
  {
   "cell_type": "code",
   "execution_count": 39,
   "metadata": {},
   "outputs": [
    {
     "ename": "SyntaxError",
     "evalue": "expected ':' (2861873273.py, line 14)",
     "output_type": "error",
     "traceback": [
      "\u001b[1;36m  Cell \u001b[1;32mIn[39], line 14\u001b[1;36m\u001b[0m\n\u001b[1;33m    for i in range (0,5)\u001b[0m\n\u001b[1;37m                        ^\u001b[0m\n\u001b[1;31mSyntaxError\u001b[0m\u001b[1;31m:\u001b[0m expected ':'\n"
     ]
    }
   ],
   "source": [
    "# define the main function here\n",
    "### Exercise 4\n",
    "\n",
    "'''Part 1:<br>\n",
    "    Define a function that takes another function as an argument<br>\n",
    "    The function should:<br>\n",
    "        `execute` the argument function, and<br>\n",
    "        `return` the name of the argument function, and the result of that function in a `dictionary`<br><br>\n",
    "Part 2:<br>\n",
    "    convert the tuple to a string and save it to a .txt file'''\n",
    "def execute_function(func):\n",
    "    return {'name': func.__name__,'result' : str(func())}\n",
    "    print('The results are:')\n",
    "    for i in range (0,5)\n",
    "    {print(\"Function: \" + str(i+1))\n",
    "    }\n",
    "    # call the function with the lambda expression\n",
    "    execute = execute_function()\n",
    "    # write the output into a.txt file\n",
    "    f=open('output.txt','w')\n",
    "    f.write(str(execute)+'\\n')\n",
    "    f.close()\n",
    "    \n"
   ]
  },
  {
   "cell_type": "code",
   "execution_count": null,
   "metadata": {},
   "outputs": [],
   "source": [
    "# define the argument function here"
   ]
  },
  {
   "cell_type": "code",
   "execution_count": null,
   "metadata": {},
   "outputs": [],
   "source": [
    "# write the \"save file\" statement here"
   ]
  },
  {
   "cell_type": "code",
   "execution_count": null,
   "metadata": {},
   "outputs": [],
   "source": []
  },
  {
   "cell_type": "markdown",
   "metadata": {},
   "source": [
    "### Other file modes:\n",
    "'r+' - read and write<br>\n",
    "'a+' - append and read<br>\n",
    "'w+' - write and read<br>"
   ]
  },
  {
   "cell_type": "code",
   "execution_count": null,
   "metadata": {},
   "outputs": [],
   "source": []
  },
  {
   "cell_type": "markdown",
   "metadata": {},
   "source": [
    "`'r+' - read and write`"
   ]
  },
  {
   "cell_type": "code",
   "execution_count": null,
   "metadata": {},
   "outputs": [],
   "source": [
    "with open('file_rw.txt', 'r+') as file1:\n",
    "    for line in file1.readlines():\n",
    "        print(line)\n",
    "    file1.seek(0)\n",
    "    file1.write('\\nToday is a good day\\nRemain Happy!\\nBye!')\n",
    "    file1.read()"
   ]
  },
  {
   "cell_type": "code",
   "execution_count": null,
   "metadata": {},
   "outputs": [],
   "source": []
  },
  {
   "cell_type": "markdown",
   "metadata": {},
   "source": [
    "`'a+' - append and read`"
   ]
  },
  {
   "cell_type": "code",
   "execution_count": null,
   "metadata": {},
   "outputs": [],
   "source": [
    "with open('file_ar.txt', 'a+') as file1:\n",
    "    file1.write('\\nToday is a good day\\nRemain Happy!\\nBye!')\n",
    "    file1.seek(0)\n",
    "    print(file1.read())"
   ]
  },
  {
   "cell_type": "code",
   "execution_count": null,
   "metadata": {},
   "outputs": [],
   "source": []
  },
  {
   "cell_type": "markdown",
   "metadata": {},
   "source": [
    "`'w+' - write and read`"
   ]
  },
  {
   "cell_type": "code",
   "execution_count": null,
   "metadata": {},
   "outputs": [],
   "source": [
    "with open('file_wr.txt', 'w+') as file1:\n",
    "    file1.write('\\nToday is a good day\\nRemain Happy!\\nBye!')\n",
    "    file1.seek(0)\n",
    "    print(file1.read())"
   ]
  },
  {
   "cell_type": "code",
   "execution_count": null,
   "metadata": {},
   "outputs": [],
   "source": []
  },
  {
   "cell_type": "markdown",
   "metadata": {},
   "source": [
    "### Read More: \n",
    "Python Docs: https://docs.python.org/3/library/functions.html#open<br>\n",
    "Python Docs: https://docs.python.org/3/tutorial/inputoutput.html#reading-and-writing-files<br>"
   ]
  },
  {
   "cell_type": "code",
   "execution_count": null,
   "metadata": {},
   "outputs": [],
   "source": []
  },
  {
   "cell_type": "markdown",
   "metadata": {},
   "source": [
    "## CSVs - writer()"
   ]
  },
  {
   "cell_type": "markdown",
   "metadata": {},
   "source": [
    "    import the csv module"
   ]
  },
  {
   "cell_type": "code",
   "execution_count": 40,
   "metadata": {},
   "outputs": [],
   "source": [
    "import csv"
   ]
  },
  {
   "cell_type": "markdown",
   "metadata": {},
   "source": [
    "    create a csv file and add rows to the file"
   ]
  },
  {
   "cell_type": "code",
   "execution_count": 41,
   "metadata": {},
   "outputs": [],
   "source": [
    "with open('demo.csv', 'w', newline='') as csv_file:\n",
    "    file = csv.writer(csv_file, delimiter=',')\n",
    "    file.writerow(['Name', 'Email', 'Phone Number']) # header\n",
    "    file.writerow(['Funmi', 'funmi@gmail.com', '08077997788']) # row 1\n",
    "    file.writerow(['Musa', 'musa@example.com', '']) # row 2"
   ]
  },
  {
   "cell_type": "code",
   "execution_count": 42,
   "metadata": {},
   "outputs": [],
   "source": [
    "with open('demo_II.csv', 'w', newline='') as csv_file:\n",
    "    file = csv.writer(csv_file, delimiter=',')\n",
    "    header = ['Name', 'Email', 'Phone Number']\n",
    "    row1 = ['Funmi', 'funmi@gmail.com', '08077997788']\n",
    "    row_2 = ['Musa', 'musa@example.com', '']\n",
    "    file.writerows([header,row1 ,row_2 ])"
   ]
  },
  {
   "cell_type": "code",
   "execution_count": null,
   "metadata": {},
   "outputs": [],
   "source": []
  },
  {
   "cell_type": "code",
   "execution_count": null,
   "metadata": {},
   "outputs": [],
   "source": []
  },
  {
   "cell_type": "markdown",
   "metadata": {},
   "source": [
    "## CSVs - reader()"
   ]
  },
  {
   "cell_type": "code",
   "execution_count": 43,
   "metadata": {},
   "outputs": [
    {
     "name": "stdout",
     "output_type": "stream",
     "text": [
      "['Name', 'Email', 'Phone Number']\n",
      "['Funmi', 'funmi@gmail.com', '08077997788']\n",
      "['Musa', 'musa@example.com', '']\n"
     ]
    }
   ],
   "source": [
    "file_name = 'demo_II.csv'\n",
    "with open(file_name, mode='r') as csvfile:\n",
    "    filereader = csv.reader(csvfile, delimiter=',')\n",
    "    for row in filereader:\n",
    "        print(row)"
   ]
  },
  {
   "cell_type": "code",
   "execution_count": 44,
   "metadata": {},
   "outputs": [],
   "source": [
    "with open('demo_II.csv', 'a', newline='') as csv_file:\n",
    "    file = csv.writer(csv_file, delimiter=',')\n",
    "    row3 = ['Alheri', 'alheri@gmail.com', '08077227788']\n",
    "    row4 = ['Kareem', 'kareem@outlook.com', '+44112233545']\n",
    "    file.writerows([row3,row4])"
   ]
  },
  {
   "cell_type": "code",
   "execution_count": null,
   "metadata": {},
   "outputs": [],
   "source": []
  },
  {
   "cell_type": "code",
   "execution_count": null,
   "metadata": {},
   "outputs": [],
   "source": []
  },
  {
   "cell_type": "markdown",
   "metadata": {},
   "source": [
    "## CSVs - DictReader()"
   ]
  },
  {
   "cell_type": "code",
   "execution_count": 45,
   "metadata": {},
   "outputs": [
    {
     "name": "stdout",
     "output_type": "stream",
     "text": [
      "{'Name': 'Funmi', 'Email': 'funmi@gmail.com', 'Phone Number': '08077997788'}\n",
      "{'Name': 'Musa', 'Email': 'musa@example.com', 'Phone Number': ''}\n"
     ]
    }
   ],
   "source": [
    "with open('demo.csv', mode='r') as csvfile:\n",
    "    reader = csv.DictReader(csvfile)\n",
    "    for row in reader:\n",
    "        print(row)"
   ]
  },
  {
   "cell_type": "code",
   "execution_count": null,
   "metadata": {},
   "outputs": [],
   "source": []
  },
  {
   "cell_type": "markdown",
   "metadata": {},
   "source": [
    "## CSVs - DictWriter()"
   ]
  },
  {
   "cell_type": "code",
   "execution_count": 46,
   "metadata": {},
   "outputs": [],
   "source": [
    "with open('demo.csv', 'a', newline='') as csvfile:\n",
    "    file = csv.DictWriter(csvfile, fieldnames=['Name', 'Email', 'Phone Number'])\n",
    "    row3 = {'Name': 'Kamal', 'Email': 'kamal@outlook.com', 'Phone Number': ''}\n",
    "    row4 = {'Name': 'Fatimah', 'Email': 'fatimah@newuser.com', 'Phone Number': '09011223344'}\n",
    "    row5 = {'Name': 'Rabiu', 'Email': 'rabiu@gmail.com', 'Phone Number': '+442341235544'}\n",
    "    file.writerows([row3, row4, row5])"
   ]
  },
  {
   "cell_type": "code",
   "execution_count": null,
   "metadata": {},
   "outputs": [],
   "source": []
  },
  {
   "cell_type": "markdown",
   "metadata": {},
   "source": [
    "### Exercise 5\n",
    "\n",
    "Read the demo.csv file and print the names of persons whose phone numbers start with +44<br>\n",
    "You can make use of any of the csv reader methods"
   ]
  },
  {
   "cell_type": "code",
   "execution_count": 47,
   "metadata": {},
   "outputs": [
    {
     "ename": "NameError",
     "evalue": "name 'csvreader' is not defined",
     "output_type": "error",
     "traceback": [
      "\u001b[1;31m---------------------------------------------------------------------------\u001b[0m",
      "\u001b[1;31mNameError\u001b[0m                                 Traceback (most recent call last)",
      "Cell \u001b[1;32mIn[47], line 5\u001b[0m\n\u001b[0;32m      1\u001b[0m \u001b[39m# Code your solution here\u001b[39;00m\n\u001b[0;32m      2\u001b[0m \u001b[39m#Read the demo.csv file and print the names of persons whose phone numbers start with +44<br> ç\u001b[39;00m\n\u001b[0;32m      3\u001b[0m \u001b[39m# You can make use of any of the csv reader methods\u001b[39;00m\n\u001b[0;32m      4\u001b[0m \u001b[39mwith\u001b[39;00m \u001b[39mopen\u001b[39m(\u001b[39m'\u001b[39m\u001b[39mdemo.csv\u001b[39m\u001b[39m'\u001b[39m) \u001b[39mas\u001b[39;00m f:\n\u001b[1;32m----> 5\u001b[0m     \u001b[39mfor\u001b[39;00m row \u001b[39min\u001b[39;00m csvreader(f):\n\u001b[0;32m      6\u001b[0m         \u001b[39mif\u001b[39;00m (row[\u001b[39m1\u001b[39m][\u001b[39m0\u001b[39m] \u001b[39m==\u001b[39m \u001b[39m'\u001b[39m\u001b[39m+\u001b[39m\u001b[39m'\u001b[39m):\n\u001b[0;32m      7\u001b[0m             \u001b[39mprint\u001b[39m(\u001b[39m\"\u001b[39m\u001b[39mName:\u001b[39m\u001b[39m\"\u001b[39m, row)\n",
      "\u001b[1;31mNameError\u001b[0m: name 'csvreader' is not defined"
     ]
    },
    {
     "ename": "",
     "evalue": "",
     "output_type": "error",
     "traceback": [
      "\u001b[1;31mThe Kernel crashed while executing code in the the current cell or a previous cell. Please review the code in the cell(s) to identify a possible cause of the failure. Click <a href='https://aka.ms/vscodeJupyterKernelCrash'>here</a> for more info. View Jupyter <a href='command:jupyter.viewOutput'>log</a> for further details."
     ]
    }
   ],
   "source": [
    "# Code your solution here\n",
    "#Read the demo.csv file and print the names of persons whose phone numbers start with +44<br> ç\n",
    "# You can make use of any of the csv reader methods\n",
    "\n",
    "\n"
   ]
  },
  {
   "cell_type": "code",
   "execution_count": null,
   "metadata": {},
   "outputs": [],
   "source": []
  },
  {
   "cell_type": "markdown",
   "metadata": {},
   "source": [
    "### Exercise 6:\n",
    "Read the demo.csv file and print the names of persons who have no phonenumbers<br>\n",
    "You can make use of any of the csv reader methods"
   ]
  },
  {
   "cell_type": "code",
   "execution_count": null,
   "metadata": {},
   "outputs": [],
   "source": [
    "# Code your solution here"
   ]
  },
  {
   "cell_type": "markdown",
   "metadata": {},
   "source": [
    "To create a .txt file\n"
   ]
  },
  {
   "cell_type": "code",
   "execution_count": null,
   "metadata": {},
   "outputs": [],
   "source": []
  }
 ],
 "metadata": {
  "kernelspec": {
   "display_name": "Python 3",
   "language": "python",
   "name": "python3"
  },
  "language_info": {
   "codemirror_mode": {
    "name": "ipython",
    "version": 3
   },
   "file_extension": ".py",
   "mimetype": "text/x-python",
   "name": "python",
   "nbconvert_exporter": "python",
   "pygments_lexer": "ipython3",
   "version": "3.11.3"
  },
  "orig_nbformat": 4
 },
 "nbformat": 4,
 "nbformat_minor": 2
}
