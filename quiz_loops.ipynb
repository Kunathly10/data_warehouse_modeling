{
 "cells": [
  {
   "cell_type": "code",
   "execution_count": 2,
   "metadata": {},
   "outputs": [
    {
     "name": "stdout",
     "output_type": "stream",
     "text": [
      "2\n",
      "4\n",
      "6\n",
      "8\n",
      "10\n",
      "12\n",
      "14\n",
      "16\n",
      "18\n",
      "20\n",
      "22\n",
      "24\n",
      "26\n",
      "28\n",
      "30\n",
      "32\n",
      "34\n",
      "36\n",
      "38\n",
      "40\n",
      "42\n",
      "44\n",
      "46\n",
      "48\n",
      "50\n",
      "52\n",
      "54\n",
      "56\n",
      "58\n",
      "60\n",
      "62\n",
      "64\n",
      "66\n",
      "68\n",
      "70\n",
      "72\n",
      "74\n",
      "76\n",
      "78\n",
      "80\n",
      "82\n",
      "84\n",
      "86\n",
      "88\n",
      "90\n",
      "92\n",
      "94\n",
      "96\n",
      "98\n"
     ]
    }
   ],
   "source": [
    "# Quiz One: Using a loop, print the number of even numbers between 1 and 100\n",
    "no_between_1_and_100 = range(1,100)\n",
    "for even_nos in no_between_1_and_100:\n",
    "    if (even_nos %2 == 0):\n",
    "        print(even_nos)"
   ]
  },
  {
   "cell_type": "code",
   "execution_count": null,
   "metadata": {},
   "outputs": [],
   "source": [
    "# Quiz Two: Using a loop method of your choice, print the name and the corresponding account numbers of each bank customer defined below\n",
    "\n",
    "customer_one = {'name': 'Maryan', 'email': 'maryann@example.com', 'account_balance': 10000, 'account_number': 222122}\n",
    "customer_two = {'name': 'John', 'email': 'john@example.org', 'account_balance': 800, 'account_number': 88333}\n",
    "bank_customers = [customer_one, customer_two]\n",
    "\n"
   ]
  },
  {
   "cell_type": "code",
   "execution_count": null,
   "metadata": {},
   "outputs": [],
   "source": [
    "# Quiz Three: A hotel is having a pool get together this weekend for the Manager's son. \n",
    "#             The list of a few attendees have been compiled by Fred - the Lifeguard.\n",
    "#             He would like to know who is eligible to swim and who isn't\n",
    "#             Only people who know how to swim and are already 18years of age are allowed in the pool area.\n",
    "#             Using a for loop of your choice, print a list of tuples containing the name of the guest, and their eligibility status.\n",
    "\n",
    "guests =[\n",
    "    {\n",
    "    'name': 'Bola'\n",
    "    , 'age': 14\n",
    "    , 'can_swim': True \n",
    "    }\n",
    "    \n",
    "    , {\n",
    "    'name': 'Adam'\n",
    "    , 'age': 21\n",
    "    , 'can_swim': False \n",
    "    }\n",
    "\n",
    "    , {\n",
    "    'name': 'Ali'\n",
    "    , 'age': 18\n",
    "    , 'can_swim': True \n",
    "    }\n",
    "]"
   ]
  },
  {
   "cell_type": "code",
   "execution_count": null,
   "metadata": {},
   "outputs": [],
   "source": [
    "# Quiz Four: Building on the case study above, Fred would like to have the eligibility status of each person included in their records\n",
    "#            For each guest, include a key named 'eligibility_status', and assign it a True or False value depending on your findings"
   ]
  },
  {
   "cell_type": "code",
   "execution_count": null,
   "metadata": {},
   "outputs": [],
   "source": []
  }
 ],
 "metadata": {
  "kernelspec": {
   "display_name": "Python 3",
   "language": "python",
   "name": "python3"
  },
  "language_info": {
   "codemirror_mode": {
    "name": "ipython",
    "version": 3
   },
   "file_extension": ".py",
   "mimetype": "text/x-python",
   "name": "python",
   "nbconvert_exporter": "python",
   "pygments_lexer": "ipython3",
   "version": "3.11.3"
  },
  "orig_nbformat": 4
 },
 "nbformat": 4,
 "nbformat_minor": 2
}
