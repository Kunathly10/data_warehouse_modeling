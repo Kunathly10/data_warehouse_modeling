{
 "cells": [
  {
   "cell_type": "markdown",
   "id": "2c957b6a",
   "metadata": {},
   "source": [
    "# Week 2 Challenge\n",
    "\n",
    "* If and Elif Statement\n",
    "* For and While Loops\n",
    "* Functions\n",
    "\n",
    "**Solution shoud be submitted in this Notebook**\n"
   ]
  },
  {
   "cell_type": "code",
   "execution_count": null,
   "id": "fd386649",
   "metadata": {},
   "outputs": [],
   "source": []
  },
  {
   "cell_type": "markdown",
   "id": "dda1e6fe",
   "metadata": {},
   "source": [
    "### Section 5 - IF, Elif and Else"
   ]
  },
  {
   "cell_type": "code",
   "execution_count": 9,
   "id": "39f59684",
   "metadata": {},
   "outputs": [
    {
     "name": "stdout",
     "output_type": "stream",
     "text": [
      "Your age is 32 and You Are A Youth \n"
     ]
    }
   ],
   "source": [
    "# Write an If function that will get input from the user for their age and classify the age as:\n",
    "\n",
    "# age = input from the user\n",
    "\n",
    "# Toddler (0 – 12)\n",
    "# Teenage (13 - 19)\n",
    "# Youth (20 – 35)\n",
    "# Adult (36 – 45)\n",
    "# Elder (46 and above)\n",
    "# Print (your age is {} and you are a {})\n",
    "\n",
    "#--------------- Write your code below----------------------------#\n",
    "# Write an If function that will get input from the user for their age and classify the age as\n",
    "def classification_of_age():\n",
    "    # Get Input\n",
    "    age=int(input(\"Enter Your Age : \"))\n",
    "    if age>=0 and age<=12:\n",
    "        print (\"Your age is\",age,\"and You Are A Toddler\")\n",
    "    elif age>12 and age<20:\n",
    "        print (\"Your age is\",age,\"and You Are A Teenager \")\n",
    "    elif age >=20 and age <=35:\n",
    "        print (\"Your age is\",age,\"and You Are A Youth \")\n",
    "    elif age >35 and age <46:\n",
    "        print (\"Your age is \",age, \"And You Are An Adult \")\n",
    "    else:\n",
    "        print (\"You are an elder.\")\n",
    "\n",
    "\n",
    "# Call the function\n",
    "classification_of_age()"
   ]
  },
  {
   "cell_type": "code",
   "execution_count": 3,
   "id": "905bb277",
   "metadata": {},
   "outputs": [
    {
     "name": "stdout",
     "output_type": "stream",
     "text": [
      "Your interest rate for the 600000 is 90000.0\n"
     ]
    }
   ],
   "source": [
    "# Write a programme that will: accept the below details from a user\n",
    "\n",
    "\n",
    "# Investment Amount = input()\n",
    "# Customer type = input(corporate, retail, walk-in)\n",
    "# payment = input(cash, card)\n",
    "investment_amount = int(input('Please, input your investment amount: '))\n",
    "customer_type = str(input(\"What's your customer category\"))\n",
    "payment = str(input(\"How do you want to pay? Cash or Card \"))\n",
    "\n",
    "# Use these details to determine the interest rate depending on the input using the conditions below:\n",
    "\n",
    "\n",
    "# Customer type (corporate) and Payment (Cash)\n",
    "# <500,000 = 10%         (i.e. if (investment_amount < 500000) and (customer_type == 'corporate') and (payment == 'cash'): then interest rate should be 10%)\n",
    "# >=500,000 = 15%\n",
    "# >=1,000,000 = 20%\n",
    "# >=2,000,000 = 25%\n",
    "# Customer type (corporate) and Payment (card)\n",
    "# <500,000 = 10.5%\n",
    "# >=500,000 = 15.5%\n",
    "# >=1,000,000 = 20.5%\n",
    "# >=2,000,000 = 25.5%\n",
    "\n",
    "\n",
    "# Customer type (retail) and Payment (Cash)\n",
    "# <500,000 = 5%\n",
    "# >=500,000 = 10%\n",
    "# >=1,000,000 = 15%\n",
    "# >=2,000,000 = 20%\n",
    "\n",
    "# Customer type (retail) and Payment (card)\n",
    "# <500,000 = 5.5%\n",
    "# >=500,000 = 10.5%\n",
    "# >=1,000,000 = 15.5%\n",
    "# >=2,000,000 = 20.5%\n",
    "\n",
    "# Customer type (walk-in) and Payment (Cash)\n",
    "# <500,000 = 2%\n",
    "# >=500,000 = 8%\n",
    "# >=1,000,000 = 10%\n",
    "# >=2,000,000 = 15%\n",
    "# Customer type (Walk-in) and Payment (card)\n",
    "# <500,000 = 2.5%\n",
    "# >=500,000 = 8.5%\n",
    "# >=1,000,000 = 10.5%\n",
    "# >=2,000,000 = 15.5%\n",
    "\n",
    "# else Customer must be corporate, retail, walk-in\n",
    "# Print all the necessary details\n",
    "\n",
    "#--------------- Write your code below----------------------------#\n",
    "\n",
    "if customer_type == 'corporate' and payment == 'cash':\n",
    "    if investment_amount < 500000:\n",
    "        interest_rate = investment_amount * 0.1\n",
    "        print(f'Your interest rate for the {investment_amount} is {interest_rate}')\n",
    "    elif investment_amount >= 500000 and investment_amount < 1000000:\n",
    "        interest_rate = investment_amount * 0.15\n",
    "        print(f'Your interest rate for the {investment_amount} is {interest_rate}')\n",
    "    elif investment_amount >= 1000000 and investment_amount < 2000000:\n",
    "        interest_rate = investment_amount * 0.2   \n",
    "        print(f'Your interest rate for the {investment_amount} is {interest_rate}')\n",
    "    elif investment_amount >= 2000000:\n",
    "        interest_rate = investment_amount * 0.25\n",
    "        print(f'Your interest rate for the {investment_amount} is {interest_rate}')\n",
    "    else:\n",
    "        print(\"Invalid investment amount\")\n",
    "elif customer_type == 'corporate' and payment == 'card':\n",
    "    if investment_amount < 500000:\n",
    "        interest_rate = investment_amount * 0.1 + 0.05\n",
    "        print(f'Your interest rate for the {investment_amount} is {interest_rate}')\n",
    "    elif investment_amount >= 500000 and investment_amount < 1000000:\n",
    "        interest_rate = investment_amount * 0.15 + 0.07\n",
    "        print(f'Your interest rate for the {investment_amount} is {interest_rate}')\n",
    "    elif investment_amount >= 1000000 and investment_amount < 2000000:\n",
    "        interest_rate = investment_amount * 0.2 + 0.09\n",
    "        print(f'Your interest rate for the {investment_amount} is {interest_rate}')\n",
    "    elif investment_amount >= 2000000:\n",
    "        interest_rate = investment_amount * 0.3 + 0.14\n",
    "        print(f'Your interest rate for the {investment_amount} is {interest_rate}')\n",
    "    else:\n",
    "        print(\"Invalid investment amount\")\n",
    "else:\n",
    "    print(\"We don't know you\")\n",
    "\n"
   ]
  },
  {
   "cell_type": "markdown",
   "id": "46a8d24e",
   "metadata": {},
   "source": [
    "### Section 6 - For Loops"
   ]
  },
  {
   "cell_type": "code",
   "execution_count": 5,
   "id": "7dbf256e",
   "metadata": {},
   "outputs": [
    {
     "name": "stdout",
     "output_type": "stream",
     "text": [
      "Investment Details after 2 years:\n",
      "Investment Amount: $5512.50\n"
     ]
    }
   ],
   "source": [
    "# Write a programme that will: (using a for loop)\n",
    "\n",
    "# Get input about the investment amount\n",
    "# Get input of number of years\n",
    "# Calculate yearly interest (<=5 years:5%, <=10yrs:10%, 11>:15%)\n",
    "# Calculate investment amount\n",
    "# Display all the necessary details\n",
    "\n",
    "#--------------- Write your code below----------------------------#\n",
    "investment_amount = float(input(\"Enter the investment amount: \"))\n",
    "num_of_years = int(input(\"Enter the number of years: \"))\n",
    "\n",
    "for year in range(1, num_of_years + 1):\n",
    "    if year <= 5:\n",
    "        annual_interest = 0.05\n",
    "    elif year <= 10:\n",
    "        annual_interest = 0.10\n",
    "    else:\n",
    "        annual_interest = 0.15\n",
    "\n",
    "    investment_amount += investment_amount * annual_interest\n",
    "\n",
    "print(f\"Investment Details after {num_of_years} years:\")\n",
    "print(f\"Investment Amount: ${investment_amount:.2f}\")\n",
    "\n",
    "\n",
    "    "
   ]
  },
  {
   "cell_type": "code",
   "execution_count": 9,
   "id": "4ab0442e",
   "metadata": {},
   "outputs": [
    {
     "name": "stdout",
     "output_type": "stream",
     "text": [
      "To calculate your total score:\n",
      "\n",
      "\n",
      "Your final score is 3\n"
     ]
    }
   ],
   "source": [
    "# There are errors in the code - Correct all\n",
    "''' \n",
    "period = rangers(1,4)\n",
    "score = 0\n",
    "\n",
    "print(To calculate your total score)\n",
    "print()\n",
    "for i in periods:\n",
    "    records = int(input(r\"what is your {i} score: \"))\n",
    "    score += recorder\n",
    "print()\n",
    "print(r\"Your final score is {score}\")\n",
    "'''\n",
    "#--------------- Write your code below----------------------------#\n",
    "periods = range(1, 4)\n",
    "score = 0\n",
    "\n",
    "print(\"To calculate your total score:\")\n",
    "print()\n",
    "\n",
    "for i in periods:\n",
    "    records = int(input(f\"What is your {i} score: \"))\n",
    "    score += records\n",
    "\n",
    "print()\n",
    "print(f\"Your final score is {score}\")\n"
   ]
  },
  {
   "cell_type": "markdown",
   "id": "231c4b88",
   "metadata": {},
   "source": [
    "### Section 7 - While Loops"
   ]
  },
  {
   "cell_type": "code",
   "execution_count": 10,
   "id": "09fb29a5",
   "metadata": {},
   "outputs": [
    {
     "name": "stdout",
     "output_type": "stream",
     "text": [
      "Calculate your average score\n",
      "Your average score is 80.20\n",
      "Your grade is B\n",
      "Calculate your average score\n"
     ]
    }
   ],
   "source": [
    "# Write a programme that will: (using a while loop)\n",
    "\n",
    "# Answer = input(yes/no)\n",
    "\n",
    "# While answer = yes\n",
    "# Print(calculate your average score)\n",
    "# Get score for Mathematics, English, Geography, Accounting and Physics from the user.\n",
    "# Calculate the average score of all scores\n",
    "# Write an if function that will grade the average score into (A, B, C, D, E, F)\n",
    "# Print (Your average score is {})\n",
    "# Print (Your grade is {})\n",
    "# Answer = input(do you want to calculate your average score)\n",
    "\n",
    "#--------------- Write your code below----------------------------#\n",
    "answer = input(\"Do you want to calculate your average score? (yes/no): \")\n",
    "\n",
    "while answer.lower() == \"yes\":\n",
    "    print(\"Calculate your average score\")\n",
    "    math_score = float(input(\"Enter your Mathematics score: \"))\n",
    "    english_score = float(input(\"Enter your English score: \"))\n",
    "    geography_score = float(input(\"Enter your Geography score: \"))\n",
    "    accounting_score = float(input(\"Enter your Accounting score: \"))\n",
    "    physics_score = float(input(\"Enter your Physics score: \"))\n",
    "\n",
    "    average_score = (math_score + english_score + geography_score + accounting_score + physics_score) / 5\n",
    "\n",
    "    if average_score >= 90:\n",
    "        grade = \"A\"\n",
    "    elif average_score >= 80:\n",
    "        grade = \"B\"\n",
    "    elif average_score >= 70:\n",
    "        grade = \"C\"\n",
    "    elif average_score >= 60:\n",
    "        grade = \"D\"\n",
    "    elif average_score >= 50:\n",
    "        grade = \"E\"\n",
    "    else:\n",
    "        grade = \"F\"\n",
    "\n",
    "    print(f\"Your average score is {average_score:.2f}\")\n",
    "    print(f\"Your grade is {grade}\")\n",
    "\n",
    "    answer = input(\"Do you want to calculate your average score? (yes/no): \")\n"
   ]
  },
  {
   "cell_type": "code",
   "execution_count": 2,
   "id": "f6ca2d0c",
   "metadata": {},
   "outputs": [
    {
     "name": "stdout",
     "output_type": "stream",
     "text": [
      "To calculate your total score\n",
      "-----------------------\n",
      "-----------------------\n",
      "Your final score is 180\n"
     ]
    }
   ],
   "source": [
    "# There are errors in the code - Correct all\n",
    "'''\n",
    "score = 0\n",
    "\n",
    "print(To calculate your total score)\n",
    "print(r\"-----------------------\")\n",
    "for i in ranges(0,3):\n",
    "        records = int(inputs(f\"what is your score: ))\n",
    "        if records >= 0 and recorders <=100:\n",
    "            score += recards\n",
    "        else:\n",
    "            print(s\"Your score should be between 0 - 100\")\n",
    "   \n",
    "print(----------)\n",
    "print(f\"Your final score is {scorecard}\")\n",
    "'''\n",
    "\n",
    "#--------------- Write your code below----------------------------#\n",
    "score = 0\n",
    "\n",
    "print(\"To calculate your total score\")\n",
    "print(\"-----------------------\")\n",
    "\n",
    "for i in range(3):\n",
    "    while True:\n",
    "        record_input = input(\"What is your score: \")\n",
    "        if record_input.strip() == \"\":\n",
    "            print(\"Invalid input. Please enter a score.\")\n",
    "        else:\n",
    "            try:\n",
    "                record = int(record_input)\n",
    "                if record >= 0 and record <= 100:\n",
    "                    score += record\n",
    "                    break\n",
    "                else:\n",
    "                    print(\"Your score should be between 0 - 100\")\n",
    "            except ValueError:\n",
    "                print(\"Invalid input. Please enter a valid integer score.\")\n",
    "\n",
    "print(\"-----------------------\")\n",
    "print(f\"Your final score is {score}\")\n",
    "\n"
   ]
  },
  {
   "cell_type": "markdown",
   "id": "9232419f",
   "metadata": {},
   "source": [
    "### Section 7 - While Loops"
   ]
  },
  {
   "cell_type": "code",
   "execution_count": 3,
   "id": "666926e8",
   "metadata": {},
   "outputs": [
    {
     "name": "stdout",
     "output_type": "stream",
     "text": [
      "Investment Details:\n",
      "Investment Amount: $40000.00\n",
      "Number of Years: 2\n",
      "Yearly Interest Rate: 5.0%\n",
      "Total Amount after 2 years: $42000.00\n"
     ]
    }
   ],
   "source": [
    "# Convert to a function\n",
    "\n",
    "# Write a programme that will: (using a while loop)\n",
    "\n",
    "# Get input about the investment amount\n",
    "# Get input of number of years\n",
    "# Calculate yearly interest (<=5 years:5%, <=10yrs:10%, 11>:15%) \n",
    "# Calculate investment amount\n",
    "# Display all the necessary details\n",
    "\n",
    "#--------------- Write your code below----------------------------#\n",
    "def calculate_investment():\n",
    "    investment_amount = float(input(\"Enter the investment amount: \"))\n",
    "    num_of_years = int(input(\"Enter the number of years: \"))\n",
    "\n",
    "    if num_of_years <= 5:\n",
    "        annual_interest = 0.05\n",
    "    elif num_of_years <= 10:\n",
    "        annual_interest = 0.10\n",
    "    else:\n",
    "        annual_interest = 0.15\n",
    "\n",
    "    total_amount = investment_amount * (1 + annual_interest)\n",
    "\n",
    "    print(\"Investment Details:\")\n",
    "    print(f\"Investment Amount: ${investment_amount:.2f}\")\n",
    "    print(f\"Number of Years: {num_of_years}\")\n",
    "    print(f\"Yearly Interest Rate: {annual_interest*100}%\")\n",
    "    print(f\"Total Amount after {num_of_years} years: ${total_amount:.2f}\")\n",
    "\n",
    "calculate_investment()\n"
   ]
  }
 ],
 "metadata": {
  "kernelspec": {
   "display_name": "Python 3 (ipykernel)",
   "language": "python",
   "name": "python3"
  },
  "language_info": {
   "codemirror_mode": {
    "name": "ipython",
    "version": 3
   },
   "file_extension": ".py",
   "mimetype": "text/x-python",
   "name": "python",
   "nbconvert_exporter": "python",
   "pygments_lexer": "ipython3",
   "version": "3.11.3"
  }
 },
 "nbformat": 4,
 "nbformat_minor": 5
}
