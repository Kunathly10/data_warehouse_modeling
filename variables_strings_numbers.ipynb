{
 "cells": [
  {
   "cell_type": "markdown",
   "metadata": {},
   "source": [
    "# Variables\n",
    "    - are containers for values (or objects in python)\n",
    "    - always ensuer your variable names are explanatory\n",
    "    - the Python devs convention is to have your variables declared in lower cases\n",
    "    - it is also Python devs convention to make use of camel cases for variables with multiple words"
   ]
  },
  {
   "cell_type": "code",
   "execution_count": null,
   "metadata": {},
   "outputs": [],
   "source": [
    "x = 2 + 2\n",
    "name = 'Maryam'\n",
    "school = 'Oxford'\n",
    "result = {\n",
    "    'maths': 60\n",
    "    , 'english': 45\n",
    "    , 'biology': 59\n",
    "}\n",
    "\n",
    "# x, name, school, result are called variables in Python."
   ]
  },
  {
   "cell_type": "markdown",
   "metadata": {},
   "source": [
    "### Python Variables are case sensitive:\n",
    "    - what ever is written in lower case does not over-write its upper case equivalent"
   ]
  },
  {
   "cell_type": "code",
   "execution_count": null,
   "metadata": {},
   "outputs": [],
   "source": [
    "time = '11:58'\n",
    "Time = '09:56'\n",
    "TIME = '21:11'"
   ]
  },
  {
   "cell_type": "code",
   "execution_count": null,
   "metadata": {},
   "outputs": [],
   "source": [
    "print(time)\n",
    "print(Time)\n",
    "print(TIME)"
   ]
  },
  {
   "cell_type": "markdown",
   "metadata": {},
   "source": [
    "### Python Variables can be over-written\n",
    "    - when a variable is declared the first time, a new object assignment over-writes the previous\n",
    "    - in essence, be careful (and intentional) about the names of variables"
   ]
  },
  {
   "cell_type": "code",
   "execution_count": null,
   "metadata": {},
   "outputs": [],
   "source": [
    "travel_distance = '21km'\n",
    "\n",
    "print(travel_distance)"
   ]
  },
  {
   "cell_type": "code",
   "execution_count": null,
   "metadata": {},
   "outputs": [],
   "source": [
    "travel_distance = '81km' # this over-writes the same variable declared above\n",
    "\n",
    "print(travel_distance)"
   ]
  },
  {
   "cell_type": "code",
   "execution_count": null,
   "metadata": {},
   "outputs": [],
   "source": []
  },
  {
   "cell_type": "code",
   "execution_count": null,
   "metadata": {},
   "outputs": [],
   "source": []
  },
  {
   "cell_type": "markdown",
   "metadata": {},
   "source": [
    "# Datatypes\n",
    "    - Datatypes can be thought of as a classification of values (or objects) in Python\n",
    "    - there are several datatypes in Python. The major ones are:\n",
    "        - Strings\n",
    "        - Numeric\n",
    "        - Structures\n",
    "            - Lists\n",
    "            - Tuples\n",
    "            - Sets\n",
    "            - Dictionaries (Maps)\n",
    "        - Boolean\n",
    "        - None\n",
    "    - Methods that can be performed on Python's datatypes differ depending on their classification.\n",
    "        - \n"
   ]
  },
  {
   "cell_type": "code",
   "execution_count": null,
   "metadata": {},
   "outputs": [],
   "source": [
    "## Examples\n",
    "\n",
    "string = 'Hello, Maryam!'\n",
    "numeric_integer = 1234\n",
    "numeric_float = 12.344\n",
    "structure_list = ['It', 'Can', 'Contain', 'Any', 'Datatype', string, numeric_integer, 12.5, 'Boolean', False, {'not': 'limited'}]\n",
    "structured_tuples = (1, 'Apple', True, None)\n",
    "structured_sets = {'Dismisses', 'Duplicates'}\n",
    "structures_dictionaries = {'key': 'value', 'another_key': structure_list, numeric_integer: False}\n",
    "boolean_true = True | False\n",
    "none_type = None"
   ]
  },
  {
   "cell_type": "code",
   "execution_count": null,
   "metadata": {},
   "outputs": [],
   "source": []
  },
  {
   "cell_type": "markdown",
   "metadata": {},
   "source": [
    "## 1. Strings\n",
    "    - Strings are a datatype in Python enclosed with single or double quotes\n",
    "    - Strings could be a word, combination of words, a sentence, or a combination of sentences\n",
    "    "
   ]
  },
  {
   "cell_type": "code",
   "execution_count": null,
   "metadata": {},
   "outputs": [],
   "source": [
    "string_A = 'I am a string!'\n",
    "string_B = \"Same string class still\""
   ]
  },
  {
   "cell_type": "markdown",
   "metadata": {},
   "source": [
    "    - strins coan also be written in multiple lines using three single or double quotes at the start and end of the string\n",
    "    - this method of defining strings also help with sentences containing mid-word apostrophes (and quotes)"
   ]
  },
  {
   "cell_type": "code",
   "execution_count": null,
   "metadata": {},
   "outputs": [],
   "source": [
    "sentence_A = '''\n",
    "    This is a sentence. This is a sentence.This is a sentence.This is a sentence. This is a sentence.\n",
    "    This is a sentence. This is a sentence.This is a sentence.This is a sentence. This is a sentence.\n",
    "    This is a sentence. This is a sentence.This is a sentence.This is a sentence. This is a sentence.\n",
    "    This is a sentence. This is a sentence.This is a sentence.This is a sentence. This is a sentence.\n",
    "    This is a sentence. This is a sentence.This is a sentence.This is a sentence. This is a sentence.\n",
    "'''"
   ]
  },
  {
   "cell_type": "code",
   "execution_count": null,
   "metadata": {},
   "outputs": [],
   "source": [
    "sentence_B = \"\"\"\n",
    "    Maryam's bag is not black. But she said \"My bag is black\".\n",
    "\"\"\""
   ]
  },
  {
   "cell_type": "code",
   "execution_count": null,
   "metadata": {},
   "outputs": [],
   "source": []
  },
  {
   "cell_type": "markdown",
   "metadata": {},
   "source": [
    "### Escape Characters - Apostrophes, Tabs and New Lines\n",
    "    - Escapes can be aplied to sentences with quotes or characters needing to mean something else using the backslash `\\`\n",
    "    - Examples are:\n",
    "        - \\' or \\\" for single or double quotes\n",
    "        - \\t for tabs\n",
    "        - \\n for new lines\n",
    "        - \\\\ for backslash"
   ]
  },
  {
   "cell_type": "code",
   "execution_count": null,
   "metadata": {},
   "outputs": [],
   "source": [
    "backslash_example = 'Notify Timi\\'s dad about his truck. It\\'s disturbing!'\n",
    "\n",
    "print(backslash_example)"
   ]
  },
  {
   "cell_type": "code",
   "execution_count": null,
   "metadata": {},
   "outputs": [],
   "source": [
    "tab_example = 'FirstName\\tLastName\\tSchool'\n",
    "\n",
    "print(tab_example)"
   ]
  },
  {
   "cell_type": "code",
   "execution_count": null,
   "metadata": {},
   "outputs": [],
   "source": [
    "new_line_example = \"Each\\nWord\\nDisplays\\nOn\\nA\\nNew\\nLine\"\n",
    "\n",
    "print(new_line_example)"
   ]
  },
  {
   "cell_type": "markdown",
   "metadata": {},
   "source": [
    "### Quiz - Strings Basics"
   ]
  },
  {
   "cell_type": "code",
   "execution_count": null,
   "metadata": {},
   "outputs": [],
   "source": [
    "# Quiz One: Write briefly about yourself in a multi-line string. Assign this string to the variable named myself\n",
    "\n",
    "# myself ="
   ]
  },
  {
   "cell_type": "code",
   "execution_count": null,
   "metadata": {},
   "outputs": [],
   "source": [
    "# Quiz Two: Create a variable named 'basseys_word'\n",
    "#           Assign to your variable the string below:\n",
    "#               He's not a boy\n",
    "#           Use the single quote and double quotes to test your understanding"
   ]
  },
  {
   "cell_type": "code",
   "execution_count": null,
   "metadata": {},
   "outputs": [],
   "source": [
    "# Quiz Three: Using the variable created in Quiz Two (basseys_word), print each word in the string on a new line\n",
    "\n"
   ]
  },
  {
   "cell_type": "markdown",
   "metadata": {},
   "source": [
    "### Indexing\n",
    "    - strings are arrays (iterables). we can access each element in a string at a time using indexes\n",
    "    - python makes use of zero-indexing (the first element in an array starts with position zero(0))"
   ]
  },
  {
   "cell_type": "code",
   "execution_count": null,
   "metadata": {},
   "outputs": [],
   "source": [
    "my_name = 'Santiago'"
   ]
  },
  {
   "cell_type": "code",
   "execution_count": null,
   "metadata": {},
   "outputs": [],
   "source": [
    "my_name[0]"
   ]
  },
  {
   "cell_type": "code",
   "execution_count": null,
   "metadata": {},
   "outputs": [],
   "source": [
    "# checking the length of a string - helps you to know how many characters (or elements) are in a string\n",
    "\n",
    "len(my_name)"
   ]
  },
  {
   "cell_type": "code",
   "execution_count": null,
   "metadata": {},
   "outputs": [],
   "source": [
    "# get the last item in the string with negative indexing\n",
    "\n",
    "my_name[-1]"
   ]
  },
  {
   "cell_type": "markdown",
   "metadata": {},
   "source": [
    "### Slicing\n",
    "    - get more than one character in an array \n",
    "    - Syntax `array[start:stop:skip]`"
   ]
  },
  {
   "cell_type": "code",
   "execution_count": null,
   "metadata": {},
   "outputs": [],
   "source": [
    "# get the first 5 elements\n",
    "\n",
    "my_name[:5]"
   ]
  },
  {
   "cell_type": "code",
   "execution_count": null,
   "metadata": {},
   "outputs": [],
   "source": [
    "phone_number = '+234 803 123 2277'"
   ]
  },
  {
   "cell_type": "code",
   "execution_count": null,
   "metadata": {},
   "outputs": [],
   "source": [
    "last_4 = phone_number[-4:]"
   ]
  },
  {
   "cell_type": "code",
   "execution_count": null,
   "metadata": {},
   "outputs": [],
   "source": [
    "country_code = phone_number[:4]\n",
    "print(country_code)"
   ]
  },
  {
   "cell_type": "markdown",
   "metadata": {},
   "source": [
    "### Quizzes - Indexing & Slicing"
   ]
  },
  {
   "cell_type": "code",
   "execution_count": null,
   "metadata": {},
   "outputs": [],
   "source": [
    "# Quiz One: How many characters are in the string below?\n",
    "\n",
    "bank_name = 'First Bank of Nigeria'"
   ]
  },
  {
   "cell_type": "code",
   "execution_count": null,
   "metadata": {},
   "outputs": [],
   "source": [
    "# Quiz Two: Retrieve the first 4 characters in the below string\n",
    "\n",
    "special_characters = '!@#(&*(^%)&!$@'"
   ]
  },
  {
   "cell_type": "code",
   "execution_count": null,
   "metadata": {},
   "outputs": [],
   "source": [
    "# Quiz Three: Retrieve all but the first three characters from the string below\n",
    "\n",
    "special_characters = '!@#(&*(^%)&!$@'"
   ]
  },
  {
   "cell_type": "code",
   "execution_count": null,
   "metadata": {},
   "outputs": [],
   "source": [
    "# Quiz Four: From the variable defined below, using slicing, return each element without the space between\n",
    "#            Expected Output: 'aeiou'\n",
    "\n",
    "vowels = 'a e i o u'"
   ]
  },
  {
   "cell_type": "markdown",
   "metadata": {},
   "source": [
    "### Methods\n",
    "    - Methods can be performed on strings.\n",
    "    - Methods are functions defined for a instances that belong to a class\n",
    "    - example of string methods are:\n",
    "        - .split() divides the content of a string by the specified character\n",
    "        - .strip() removes whitespaces (spaces before and after the content of the string)\n",
    "        - .upper() transforms the entire string to UPPERCASE\n",
    "        - .replace() replaces an element in a string with another\n",
    "        - .format() helps you combine variables and strings"
   ]
  },
  {
   "cell_type": "code",
   "execution_count": null,
   "metadata": {},
   "outputs": [],
   "source": [
    "# extract the housenumber, street, state and country from the string be\n",
    "#           have each response saved in a variable\n",
    "\n",
    "house_address = '123, Barak Street, Jos, Nigeria.'\n",
    "\n",
    "# Step 1: Separate the values in a string by comma (,)\n",
    "split_string = house_address.split(',')\n",
    "print(split_string)\n",
    "\n",
    "# Step 2: Extract the needed variables using indexing\n",
    "house_number = split_string[0]\n",
    "street = split_string[1]\n",
    "state = split_string[2]\n",
    "country = split_string[3]\n",
    "\n",
    "# Step 3: Display all variables\n",
    "print('House Number - ', house_number)\n",
    "print('Street - ', street)\n",
    "print('State - ', state)\n",
    "print('Country - ', country)"
   ]
  },
  {
   "cell_type": "code",
   "execution_count": null,
   "metadata": {},
   "outputs": [],
   "source": [
    "# split the string below using dash (-) as a separator\n",
    "phone_number = '0819-234-5678'\n",
    "\n",
    "phone_number.split('-')"
   ]
  },
  {
   "cell_type": "code",
   "execution_count": null,
   "metadata": {},
   "outputs": [],
   "source": [
    "# change all characters in the string below to uppercase\n",
    "loud_statement = 'highnote'\n",
    "print(loud_statement.upper())"
   ]
  },
  {
   "cell_type": "code",
   "execution_count": null,
   "metadata": {},
   "outputs": [],
   "source": [
    "# change all characters in the string below to lowercase\n",
    "lower_case = 'DONT SHOUT'\n",
    "print(lower_case.lower())"
   ]
  },
  {
   "cell_type": "code",
   "execution_count": 3,
   "metadata": {},
   "outputs": [
    {
     "name": "stdout",
     "output_type": "stream",
     "text": [
      "My name is Lucas\n"
     ]
    }
   ],
   "source": [
    "# Format\n",
    "# the .format() method helps with string-variable concatination.\n",
    "\n",
    "# assume a variable name\n",
    "name = 'Lucas'\n",
    "\n",
    "# ...and a sentence\n",
    "sentence = 'My name is '\n",
    "\n",
    "# to insert the name variable in the sentence, \n",
    "# add open and close curly braces to the position where the variable should be placed, \n",
    "# then use the .format method with the variable as an argument\n",
    "\n",
    "sentence = 'My name is {}'.format(name)\n",
    "print(sentence)"
   ]
  },
  {
   "cell_type": "code",
   "execution_count": 5,
   "metadata": {},
   "outputs": [
    {
     "name": "stdout",
     "output_type": "stream",
     "text": [
      "His address is at 567, Highway street, F.C.T, Nigeria\n"
     ]
    }
   ],
   "source": [
    "# the .format() method could have as many arguments as possible\n",
    "house_number = 567\n",
    "street = 'Highway street'\n",
    "state = 'F.C.T'\n",
    "country = 'Nigeria'\n",
    "address = 'His address is at {}, {}, {}, {}.'.format(house_number, street, state, country)\n",
    "print(address)"
   ]
  },
  {
   "cell_type": "code",
   "execution_count": null,
   "metadata": {},
   "outputs": [],
   "source": []
  },
  {
   "cell_type": "code",
   "execution_count": null,
   "metadata": {},
   "outputs": [],
   "source": []
  },
  {
   "cell_type": "code",
   "execution_count": null,
   "metadata": {},
   "outputs": [],
   "source": []
  },
  {
   "cell_type": "code",
   "execution_count": null,
   "metadata": {},
   "outputs": [],
   "source": []
  },
  {
   "cell_type": "markdown",
   "metadata": {},
   "source": [
    "### Quizzes - Methods"
   ]
  },
  {
   "cell_type": "code",
   "execution_count": null,
   "metadata": {},
   "outputs": [],
   "source": [
    "# Quiz One: extract the year, month, date, hour, minute, and second from the date below\n",
    "#           the date is given in the format YYYY/MM/DD HH:MM:SS\n",
    "#           assign each value to a variable\n",
    "\n",
    "datetime = '2023/07/31 12:00:23'\n",
    "\n"
   ]
  },
  {
   "cell_type": "code",
   "execution_count": null,
   "metadata": {},
   "outputs": [],
   "source": [
    "# Quiz Two: Print a string using the output gotten from the above quiz.\n",
    "#           Your output should look like the below, fillig the curly braces with the corresponding:\n",
    "#               'The year is {}. The month is {}. The day is {}'\n",
    "\n"
   ]
  },
  {
   "cell_type": "markdown",
   "metadata": {},
   "source": []
  },
  {
   "cell_type": "markdown",
   "metadata": {},
   "source": [
    "## 2. Numbers\n",
    "    - There are two major number types in Python:\n",
    "        - Integers (int) - whole numbers\n",
    "        - Float - Numbers with decimals"
   ]
  },
  {
   "cell_type": "code",
   "execution_count": 6,
   "metadata": {},
   "outputs": [],
   "source": [
    "numeric_integer = 1000\n",
    "numeric_float = 20.922"
   ]
  },
  {
   "cell_type": "code",
   "execution_count": 8,
   "metadata": {},
   "outputs": [
    {
     "name": "stdout",
     "output_type": "stream",
     "text": [
      "19\n"
     ]
    }
   ],
   "source": [
    "# Floats can be converted to integers by using the int() constructor and the number within its brackets\n",
    "\n",
    "x = 19.53\n",
    "print(int(x))"
   ]
  },
  {
   "cell_type": "code",
   "execution_count": 9,
   "metadata": {},
   "outputs": [
    {
     "name": "stdout",
     "output_type": "stream",
     "text": [
      "1993.0\n"
     ]
    }
   ],
   "source": [
    "# Integers can be converted to Floats using the float() constructor and the number within its brackets\n",
    "\n",
    "y = 1993\n",
    "convert_y_to_float = float(y)\n",
    "\n",
    "print(convert_y_to_float)"
   ]
  },
  {
   "cell_type": "code",
   "execution_count": 12,
   "metadata": {},
   "outputs": [
    {
     "name": "stdout",
     "output_type": "stream",
     "text": [
      "<class 'int'>\n",
      "<class 'float'>\n",
      "<class 'str'>\n"
     ]
    }
   ],
   "source": [
    "# You can check the type of an object (or a variable) using the type() constructor in python\n",
    "\n",
    "print(type(123)) # --> int for integer\n",
    "print(type(99.22)) # --> float for float\n",
    "(print(type('Colin'))) # --> str for strings"
   ]
  },
  {
   "cell_type": "markdown",
   "metadata": {},
   "source": [
    "### Basic Arithmetic Operations\n",
    "    - Arithmetic Operations can be performed on both integers and floats\n",
    "    - Below are a few operators in Python:\n",
    "        - (+)  addition\n",
    "        - (-)  subtraction\n",
    "        - (*)  mulltiplication\n",
    "        - (/)  division\n",
    "        - (%)  modulus (returns the remainder of a division)\n",
    "        - (//) addition\n",
    "        - (**) raised to power"
   ]
  },
  {
   "cell_type": "code",
   "execution_count": null,
   "metadata": {},
   "outputs": [],
   "source": [
    "# Addition\n",
    "x = 2 + 2\n",
    "print(x)"
   ]
  },
  {
   "cell_type": "code",
   "execution_count": 13,
   "metadata": {},
   "outputs": [
    {
     "name": "stdout",
     "output_type": "stream",
     "text": [
      "-5\n"
     ]
    }
   ],
   "source": [
    "# subtraction\n",
    "a = 5\n",
    "b = 10\n",
    "\n",
    "c = a - b\n",
    "\n",
    "print(c)"
   ]
  },
  {
   "cell_type": "code",
   "execution_count": 14,
   "metadata": {},
   "outputs": [
    {
     "name": "stdout",
     "output_type": "stream",
     "text": [
      "50\n"
     ]
    }
   ],
   "source": [
    "# multiplication\n",
    "\n",
    "print(10 * 5)"
   ]
  },
  {
   "cell_type": "code",
   "execution_count": 16,
   "metadata": {},
   "outputs": [
    {
     "name": "stdout",
     "output_type": "stream",
     "text": [
      "77\n"
     ]
    }
   ],
   "source": [
    "# division\n",
    "\n",
    "m = 91\n",
    "s = 14\n",
    "\n",
    "result = 91 - 14\n",
    "print(result)"
   ]
  },
  {
   "cell_type": "code",
   "execution_count": null,
   "metadata": {},
   "outputs": [],
   "source": [
    "# Quiz one: Perform arithmetic operations with the other operators listed above\n",
    "#           In your own words, explain what these operators do"
   ]
  },
  {
   "cell_type": "code",
   "execution_count": null,
   "metadata": {},
   "outputs": [],
   "source": []
  }
 ],
 "metadata": {
  "kernelspec": {
   "display_name": "Python 3",
   "language": "python",
   "name": "python3"
  },
  "language_info": {
   "codemirror_mode": {
    "name": "ipython",
    "version": 3
   },
   "file_extension": ".py",
   "mimetype": "text/x-python",
   "name": "python",
   "nbconvert_exporter": "python",
   "pygments_lexer": "ipython3",
   "version": "3.11.4"
  },
  "orig_nbformat": 4
 },
 "nbformat": 4,
 "nbformat_minor": 2
}
