{
 "cells": [
  {
   "cell_type": "code",
   "execution_count": 4,
   "metadata": {},
   "outputs": [
    {
     "name": "stdout",
     "output_type": "stream",
     "text": [
      "John Musa\n"
     ]
    }
   ],
   "source": [
    "#operators with strings (+,*) concatenation of strings\n",
    "first_name = 'John '\n",
    "last_name = 'Musa'\n",
    "full_name = first_name+last_name\n",
    "print(full_name)"
   ]
  },
  {
   "cell_type": "code",
   "execution_count": 23,
   "metadata": {},
   "outputs": [
    {
     "name": "stdout",
     "output_type": "stream",
     "text": [
      "John Musa\n"
     ]
    }
   ],
   "source": [
    "#To add a space between first and last name\n",
    "first_name = 'John '\n",
    "last_name = 'Musa'\n",
    "full_name = first_name+''+ last_name\n",
    "print(full_name)"
   ]
  },
  {
   "cell_type": "code",
   "execution_count": 8,
   "metadata": {},
   "outputs": [
    {
     "name": "stdout",
     "output_type": "stream",
     "text": [
      "5555555555\n"
     ]
    }
   ],
   "source": [
    "star = '5'\n",
    "print(star*10)"
   ]
  },
  {
   "cell_type": "code",
   "execution_count": 9,
   "metadata": {},
   "outputs": [
    {
     "data": {
      "text/plain": [
       "True"
      ]
     },
     "execution_count": 9,
     "metadata": {},
     "output_type": "execute_result"
    }
   ],
   "source": [
    "#To check existence of an element (or a string) in a string (in, not in)\n",
    "'Musa' in full_name"
   ]
  },
  {
   "cell_type": "code",
   "execution_count": 11,
   "metadata": {},
   "outputs": [
    {
     "name": "stdout",
     "output_type": "stream",
     "text": [
      "9\n"
     ]
    }
   ],
   "source": [
    "length_of_full_name = len(full_name)\n",
    "print(length_of_full_name)"
   ]
  },
  {
   "cell_type": "code",
   "execution_count": 13,
   "metadata": {},
   "outputs": [
    {
     "name": "stdout",
     "output_type": "stream",
     "text": [
      "John\n"
     ]
    }
   ],
   "source": [
    "#element in an index of a string\n",
    "print(full_name[0:4])"
   ]
  },
  {
   "cell_type": "code",
   "execution_count": 27,
   "metadata": {},
   "outputs": [
    {
     "name": "stdout",
     "output_type": "stream",
     "text": [
      "JOHN MUSA\n",
      "john musa\n",
      "John Musa\n"
     ]
    }
   ],
   "source": [
    "#String transformation (upper, lower, title) methods\n",
    "#methods are \n",
    "print(full_name.upper())\n",
    "print(full_name.lower())\n",
    "print(full_name.title())"
   ]
  },
  {
   "cell_type": "code",
   "execution_count": 29,
   "metadata": {},
   "outputs": [
    {
     "data": {
      "text/plain": [
       "False"
      ]
     },
     "execution_count": 29,
     "metadata": {},
     "output_type": "execute_result"
    }
   ],
   "source": [
    "#applying startwith and endwith method\n",
    "full_name.startswith('J')\n",
    "full_name.endswith('h')"
   ]
  },
  {
   "cell_type": "code",
   "execution_count": 30,
   "metadata": {},
   "outputs": [
    {
     "name": "stdout",
     "output_type": "stream",
     "text": [
      " john.musa@gmail.com\n"
     ]
    }
   ],
   "source": [
    "#To remove unecessary spaces in a string\n",
    "email = ' john.musa@gmail.com'\n",
    "print(email)"
   ]
  },
  {
   "cell_type": "code",
   "execution_count": 31,
   "metadata": {},
   "outputs": [
    {
     "data": {
      "text/plain": [
       "'john.musa@gmail.com'"
      ]
     },
     "execution_count": 31,
     "metadata": {},
     "output_type": "execute_result"
    }
   ],
   "source": [
    "email.strip()"
   ]
  },
  {
   "cell_type": "code",
   "execution_count": 32,
   "metadata": {},
   "outputs": [
    {
     "data": {
      "text/plain": [
       "'nathaniel@gmail.com'"
      ]
     },
     "execution_count": 32,
     "metadata": {},
     "output_type": "execute_result"
    }
   ],
   "source": [
    "#to replace a content with another content in a string\n",
    "my_email = 'nathaniel#gmail.com'\n",
    "my_email.replace('#', '@')"
   ]
  },
  {
   "cell_type": "code",
   "execution_count": 37,
   "metadata": {},
   "outputs": [
    {
     "name": "stdout",
     "output_type": "stream",
     "text": [
      "My name is Nate. I am 65 years old\n"
     ]
    }
   ],
   "source": [
    "#joining string with other data types using the .format() method\n",
    "name = 'Nate'\n",
    "age = 65\n",
    "sentence = 'My name is {}. I am {} years old'.format(name,age)\n",
    "print(sentence)"
   ]
  },
  {
   "cell_type": "code",
   "execution_count": 39,
   "metadata": {},
   "outputs": [
    {
     "name": "stdout",
     "output_type": "stream",
     "text": [
      "Item 1 is called Mango. This item costs 5, but due to the discounts, it now costs 1.5\n"
     ]
    }
   ],
   "source": [
    "item_name = 'Mango'\n",
    "real_price = 5\n",
    "discounted_price = 1.5\n",
    "sentence = 'Item 1 is called {}. This item costs {}, but due to the discounts, it now costs {}'.format(item_name,real_price,discounted_price)\n",
    "print(sentence)"
   ]
  },
  {
   "attachments": {},
   "cell_type": "markdown",
   "metadata": {},
   "source": [
    "* List"
   ]
  },
  {
   "attachments": {},
   "cell_type": "markdown",
   "metadata": {},
   "source": []
  }
 ],
 "metadata": {
  "kernelspec": {
   "display_name": "Python 3",
   "language": "python",
   "name": "python3"
  },
  "language_info": {
   "codemirror_mode": {
    "name": "ipython",
    "version": 3
   },
   "file_extension": ".py",
   "mimetype": "text/x-python",
   "name": "python",
   "nbconvert_exporter": "python",
   "pygments_lexer": "ipython3",
   "version": "3.11.3"
  },
  "orig_nbformat": 4
 },
 "nbformat": 4,
 "nbformat_minor": 2
}
