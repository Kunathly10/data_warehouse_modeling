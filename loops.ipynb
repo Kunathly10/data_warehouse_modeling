{
 "cells": [
  {
   "cell_type": "markdown",
   "metadata": {},
   "source": [
    "# Loops\n",
    "- loops help us go over the items in an iterable (an object that can return elements contained in it one at a time)\n",
    "- loops can be performed on:\n",
    "    - lists\n",
    "    - tuples \n",
    "    - dictionaries\n",
    "    - strings"
   ]
  },
  {
   "cell_type": "markdown",
   "metadata": {},
   "source": [
    "## For Loops"
   ]
  },
  {
   "cell_type": "code",
   "execution_count": null,
   "metadata": {},
   "outputs": [],
   "source": [
    "database_properties = ['Atomicity', 'Consistency', 'Isolation', 'Durability']\n",
    "\n",
    "for property in database_properties:\n",
    "    print('Property: ', property)"
   ]
  },
  {
   "cell_type": "code",
   "execution_count": null,
   "metadata": {},
   "outputs": [],
   "source": []
  },
  {
   "cell_type": "code",
   "execution_count": 24,
   "metadata": {},
   "outputs": [
    {
     "name": "stdout",
     "output_type": "stream",
     "text": [
      "5\n",
      "6\n",
      "7\n",
      "8\n",
      "4\n",
      "7\n"
     ]
    }
   ],
   "source": [
    "for i in [5,6,7,8,4,7]:\n",
    "    print(i)"
   ]
  },
  {
   "cell_type": "markdown",
   "metadata": {},
   "source": [
    "### range function\n",
    "- the range function creates a sequence of numbers from the specified start point, to a specified stop point\n",
    "- syntax: `range(start, stop, step)`\n",
    "    - start specifies the beginning of the\n",
    "- range returns an iterator, so it's possible to loop over its result"
   ]
  },
  {
   "cell_type": "code",
   "execution_count": 1,
   "metadata": {},
   "outputs": [
    {
     "name": "stdout",
     "output_type": "stream",
     "text": [
      "We're at 1\n",
      "We're at 2\n",
      "We're at 3\n",
      "We're at 4\n",
      "We're at 5\n",
      "We're at 6\n",
      "We're at 7\n",
      "We're at 8\n",
      "We're at 9\n",
      "We're at 10\n"
     ]
    }
   ],
   "source": [
    "# Loop over numbers 1 through 10\n",
    "\n",
    "for num in range(1,11):\n",
    "    print(f'We\\'re at {num}')"
   ]
  },
  {
   "cell_type": "code",
   "execution_count": 3,
   "metadata": {},
   "outputs": [
    {
     "name": "stdout",
     "output_type": "stream",
     "text": [
      "('Maryan', 222122)\n",
      "('John', 88333)\n"
     ]
    }
   ],
   "source": [
    "# Quiz One: Loop through the bank_customers list below. \n",
    "#           For each element in the list:\n",
    "#               1. print the customer's name and account number in a tuple\n",
    "\n",
    "customer_one = {'name': 'Maryan', 'email': 'maryann@example.com', 'account_balance': 10000, 'account_number': 222122}\n",
    "customer_two = {'name': 'John', 'email': 'john@example.org', 'account_balance': 800, 'account_number': 88333}\n",
    "bank_customers = [customer_one, customer_two]\n",
    "\n",
    "for cust in bank_customers:\n",
    "    if isinstance(cust['account_number'], int) == True:\n",
    "        tupled_info = (cust['name'], cust['account_number'])\n",
    "        print(tupled_info)\n",
    "    else:\n",
    "        continue"
   ]
  },
  {
   "cell_type": "markdown",
   "metadata": {},
   "source": [
    "## While Loops\n",
    "- while loops work similarly with for loops\n",
    "- except here:\n",
    "    - you have to explicitly specify the base case *a line of code that specifies when the loop should end\n",
    "    - you have to deliberately increment (or decrement) the iterator"
   ]
  },
  {
   "cell_type": "code",
   "execution_count": 4,
   "metadata": {},
   "outputs": [
    {
     "name": "stdout",
     "output_type": "stream",
     "text": [
      "We are at index 1\n",
      "We are at index 2\n",
      "We are at index 3\n",
      "We are at index 4\n",
      "We are at index 5\n",
      "We are at index 6\n",
      "We are at index 7\n",
      "We are at index 8\n",
      "We are at index 9\n",
      "We are at index 10\n"
     ]
    }
   ],
   "source": [
    "# print \n",
    "\n",
    "index = 1\n",
    "while index <= 10:\n",
    "    print('We are at index {}'.format(index))\n",
    "    index = index + 1"
   ]
  },
  {
   "cell_type": "code",
   "execution_count": 3,
   "metadata": {},
   "outputs": [
    {
     "name": "stdout",
     "output_type": "stream",
     "text": [
      "Amount before this year's deduction:  60000\n",
      "Current year:  1\n",
      "Amount after this year's deduction 50000\n",
      "--------------------------------------------------\n",
      "Amount before this year's deduction:  50000\n",
      "Current year:  2\n",
      "Amount after this year's deduction 40000\n",
      "--------------------------------------------------\n",
      "Amount before this year's deduction:  40000\n",
      "Current year:  3\n",
      "Amount after this year's deduction 30000\n",
      "--------------------------------------------------\n",
      "Amount before this year's deduction:  30000\n",
      "Current year:  4\n",
      "Amount after this year's deduction 20000\n",
      "--------------------------------------------------\n",
      "Amount before this year's deduction:  20000\n",
      "Current year:  5\n",
      "Amount after this year's deduction 10000\n",
      "--------------------------------------------------\n",
      "Amount before this year's deduction:  10000\n",
      "Current year:  6\n",
      "Amount after this year's deduction 0\n",
      "--------------------------------------------------\n"
     ]
    }
   ],
   "source": [
    "# Scenario: An individual owes 60000, and is set to pay 10000 every year.\n",
    "#           Deduct the payable amount from the amount owed until nothing is owed\n",
    "\n",
    "amount_owing = 60000\n",
    "current_year = 1\n",
    "yearly_payment = 10000\n",
    "\n",
    "while amount_owing != 0:\n",
    "    print('Amount before this year\\'s deduction: ', amount_owing)\n",
    "    amount_owing = amount_owing - yearly_payment\n",
    "    print('Current year: ', current_year)\n",
    "    print('Amount after this year\\'s deduction', amount_owing)\n",
    "    print('--------------------------------------------------')\n",
    "    current_year = current_year + 1"
   ]
  },
  {
   "cell_type": "code",
   "execution_count": 6,
   "metadata": {},
   "outputs": [
    {
     "name": "stdout",
     "output_type": "stream",
     "text": [
      "yes\n",
      "yes\n",
      "no\n"
     ]
    }
   ],
   "source": [
    "# request an input from a user with expectation\n",
    "\n",
    "repeat_loop = 'yes'\n",
    "\n",
    "while repeat_loop != 'no':    \n",
    "    repeat_loop = input('Would you like to continue? ')\n",
    "    print((repeat_loop))"
   ]
  },
  {
   "cell_type": "code",
   "execution_count": null,
   "metadata": {},
   "outputs": [],
   "source": []
  }
 ],
 "metadata": {
  "kernelspec": {
   "display_name": "Python 3",
   "language": "python",
   "name": "python3"
  },
  "language_info": {
   "codemirror_mode": {
    "name": "ipython",
    "version": 3
   },
   "file_extension": ".py",
   "mimetype": "text/x-python",
   "name": "python",
   "nbconvert_exporter": "python",
   "pygments_lexer": "ipython3",
   "version": "3.11.3"
  },
  "orig_nbformat": 4
 },
 "nbformat": 4,
 "nbformat_minor": 2
}
