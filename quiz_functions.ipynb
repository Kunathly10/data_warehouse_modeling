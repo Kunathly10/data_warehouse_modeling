{
 "cells": [
  {
   "cell_type": "code",
   "execution_count": 12,
   "metadata": {},
   "outputs": [
    {
     "name": "stdout",
     "output_type": "stream",
     "text": [
      "08011223344\n"
     ]
    }
   ],
   "source": [
    "# Quiz One: Write a fUnction that replaces the country code (+234) of a given phone number with (0) and returns the resulting phone number\n",
    "#           For example: \n",
    "#               input: +2348011223344\n",
    "#               output: 08011223344\n",
    "\n",
    "def format_phone(number):\n",
    "    if len(number) > 13:\n",
    "        return \"0\" + number[4:]\n",
    "    else:\n",
    "        return number\n",
    "\n",
    "# Test the function\n",
    "phone_number = \"+2348011223344\"\n",
    "formatted_number = format_phone(phone_number)\n",
    "print(formatted_number)  # Output: 08011223344"
   ]
  },
  {
   "cell_type": "code",
   "execution_count": 14,
   "metadata": {},
   "outputs": [
    {
     "name": "stdout",
     "output_type": "stream",
     "text": [
      "08011223344\n"
     ]
    }
   ],
   "source": [
    "def check_number():\n",
    "    num = \"+2348011223344\"\n",
    "    new_num = num.replace('+234', '0')\n",
    "    print(new_num)\n",
    "\n",
    "# Call the function\n",
    "check_number()\n"
   ]
  },
  {
   "cell_type": "code",
   "execution_count": 13,
   "metadata": {},
   "outputs": [
    {
     "name": "stdout",
     "output_type": "stream",
     "text": [
      "This is an 'A' student\n",
      "155\n"
     ]
    }
   ],
   "source": [
    "# Quiz Two: Write a function that:\n",
    "#           1. receives the test and exam scores of a student as individual arguments\n",
    "#           2. displays ('this is an 'A' student') upon function call if the total score exceeds 75 marks\n",
    "#           2. returns the total score\n",
    "def calculate_score(test_score, exam_score):\n",
    "    total_score = test_score + exam_score\n",
    "\n",
    "    if total_score > 75:\n",
    "        print(\"This is an 'A' student\")\n",
    "\n",
    "    return total_score\n",
    "\n",
    "# Call the function\n",
    "test_score = 80\n",
    "exam_score = 75\n",
    "total_score = calculate_score(test_score, exam_score)\n",
    "print(total_score)  # Output: 150\n"
   ]
  },
  {
   "cell_type": "code",
   "execution_count": null,
   "metadata": {},
   "outputs": [],
   "source": [
    "# Quiz Three: An educational institution has records of their students performance in a list.\n",
    "#             Each student's record is stored in a tuple and contains the below in the same order:\n",
    "#               - first name\n",
    "#               - last name\n",
    "#               - phone number\n",
    "#               - test score\n",
    "#               - exam score\n",
    "#               - course name\n",
    "\n",
    "#           ---- YOUR TASK ----\n",
    "#           As a Data Engineer, you are hired to do some cleaning and transformation.\n",
    "#           You are expected to:\n",
    "#           - Take out white spaces from texts,\n",
    "#           - replace the country code with (0) for all students (the students are Nigerian),\n",
    "#           - have their full name in one string, and\n",
    "#           - calculate the total score for each student (testscore + examscore)\n",
    "\n",
    "#           ---- EXPECTED RESPONSE ----\n",
    "#           After cleaning and transformation, return a list of dictionaries with the following keys:\n",
    "#           - full name\n",
    "#           - phone number\n",
    "#           - total score\n",
    "\n",
    "\n",
    "# sample input: [('Leon', 'King', '+2348099339933', 23, 56, 'English')]\n",
    "\n"
   ]
  },
  {
   "cell_type": "code",
   "execution_count": 18,
   "metadata": {},
   "outputs": [
    {
     "name": "stdout",
     "output_type": "stream",
     "text": [
      "20 4 12\n"
     ]
    }
   ],
   "source": [
    "def foo(a, b=4, c=6):\n",
    "    print(a, b, c)\n",
    " \n",
    "foo(20, c=12)"
   ]
  }
 ],
 "metadata": {
  "kernelspec": {
   "display_name": "Python 3",
   "language": "python",
   "name": "python3"
  },
  "language_info": {
   "codemirror_mode": {
    "name": "ipython",
    "version": 3
   },
   "file_extension": ".py",
   "mimetype": "text/x-python",
   "name": "python",
   "nbconvert_exporter": "python",
   "pygments_lexer": "ipython3",
   "version": "3.11.3"
  },
  "orig_nbformat": 4
 },
 "nbformat": 4,
 "nbformat_minor": 2
}
