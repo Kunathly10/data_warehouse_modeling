{
 "cells": [
  {
   "cell_type": "code",
   "execution_count": 1,
   "metadata": {},
   "outputs": [],
   "source": [
    "# conside the dictionary below:\n",
    "\n",
    "house = {'housenumber': 393, 'street': 'Lawanson Street', 'city': 'Surulere', 'state': 'Lagos'}"
   ]
  },
  {
   "cell_type": "code",
   "execution_count": 3,
   "metadata": {},
   "outputs": [
    {
     "ename": "SyntaxError",
     "evalue": "invalid syntax (2668877951.py, line 4)",
     "output_type": "error",
     "traceback": [
      "\u001b[1;36m  Cell \u001b[1;32mIn[3], line 4\u001b[1;36m\u001b[0m\n\u001b[1;33m    Exceptions in Python are events stops the execution flow<br>\u001b[0m\n\u001b[1;37m                         ^\u001b[0m\n\u001b[1;31mSyntaxError\u001b[0m\u001b[1;31m:\u001b[0m invalid syntax\n"
     ]
    }
   ],
   "source": [
    "# pick a non existing key\n",
    "house['country']"
   ]
  },
  {
   "cell_type": "markdown",
   "metadata": {},
   "source": [
    "# Exceptions\n",
    "Exceptions in Python are events stops the execution flow<br>\n",
    "Examples:<br>\n",
    "    - `SyntaxError`<br>\n",
    "    - `KeyError`<br>\n",
    "    - `ValueError`<br>\n",
    "    - `ZeroDivisionError`<br>\n",
    "    ..."
   ]
  },
  {
   "cell_type": "markdown",
   "metadata": {},
   "source": [
    "## Handling Exceptions - try, except\n",
    "`try` - the `try` block should contain the actual code to be executed<br>\n",
    "`except` - the `except` should handle exceptions (errors) encountered from the `try` statement.<b>"
   ]
  },
  {
   "cell_type": "code",
   "execution_count": 4,
   "metadata": {},
   "outputs": [
    {
     "name": "stdout",
     "output_type": "stream",
     "text": [
      "country is not part of the keys in the dictionary\n"
     ]
    }
   ],
   "source": [
    "try:\n",
    "    house = {'housenumber': 393, 'street': 'Lawanson Street', 'city': 'Surulere', 'state': 'Lagos'}\n",
    "    print(house['country'])\n",
    "except:\n",
    "    print('country is not part of the keys in the dictionary')"
   ]
  },
  {
   "cell_type": "code",
   "execution_count": null,
   "metadata": {},
   "outputs": [],
   "source": []
  },
  {
   "cell_type": "markdown",
   "metadata": {},
   "source": [
    "## Exercise 1\n",
    "Write a function that takes a list as an argument and converts each string to uppercase<br>\n",
    "Call your function in a `try-except` block to handle any errors.<br> \n",
    "Print the error message goten from the exception<br>\n",
    "==> Test your function with `list` and `integer` datatypes"
   ]
  },
  {
   "cell_type": "code",
   "execution_count": 5,
   "metadata": {},
   "outputs": [
    {
     "name": "stdout",
     "output_type": "stream",
     "text": [
      "HHA\n"
     ]
    }
   ],
   "source": [
    "# Define your function here\n",
    "def upper_func(arg):\n",
    "    return arg.upper()\n",
    "print(upper_func('hha'))"
   ]
  },
  {
   "cell_type": "code",
   "execution_count": null,
   "metadata": {},
   "outputs": [],
   "source": [
    "# Call your function here in a `try-except` statement\n",
    "try:\n",
    "    print(upper_func('Yhdbjd'))\n",
    "except:\n",
    "    pass\n"
   ]
  },
  {
   "cell_type": "code",
   "execution_count": null,
   "metadata": {},
   "outputs": [],
   "source": []
  },
  {
   "cell_type": "markdown",
   "metadata": {},
   "source": [
    "## Handling Exceptions - `try`, `except`, `else`\n",
    "`else` - Executes another line if the statement in the try block succeeds"
   ]
  },
  {
   "cell_type": "code",
   "execution_count": null,
   "metadata": {},
   "outputs": [],
   "source": [
    "try:\n",
    "    file = open('filename.txt', 'r')\n",
    "except Exception as e:\n",
    "    print(e)\n",
    "else:\n",
    "    print(file.read(5))\n",
    "    file.close()\n",
    "    print('File has been closed')"
   ]
  },
  {
   "cell_type": "code",
   "execution_count": null,
   "metadata": {},
   "outputs": [],
   "source": []
  },
  {
   "cell_type": "markdown",
   "metadata": {},
   "source": [
    "## Handling Exceptions - `try`, `except`, `else`, `finally`\n",
    "\n",
    "`finally` - the `finally` statement is executed whether or not an exception occurs"
   ]
  },
  {
   "cell_type": "code",
   "execution_count": null,
   "metadata": {},
   "outputs": [],
   "source": [
    "try:\n",
    "    file = open('filename.txt', 'r')\n",
    "except Exception as e:\n",
    "    print(e)\n",
    "else:\n",
    "    print(file.readline(5))\n",
    "    print('File has been closed')\n",
    "finally:\n",
    "    file.close()\n",
    "    #os.remove('filename.txt') # deletes a file"
   ]
  },
  {
   "cell_type": "code",
   "execution_count": null,
   "metadata": {},
   "outputs": [],
   "source": []
  },
  {
   "cell_type": "markdown",
   "metadata": {},
   "source": [
    "## Exercise 2\n",
    "\n",
    "Define a function that divides two numbers provided as arguments (numerator, nenominator)<br>\n",
    "Be sure to handle exceptions<br>\n",
    "1. Give the result a default value\n",
    "2. Execute the result\n",
    "3. Handle the exception\n",
    "4. Print the result if there are no errors\n",
    "5. Clean up. Reset the value of `result` with the initial value\n",
    "\n",
    "Run the cells below and notice your responses. Does it function the way it should?"
   ]
  },
  {
   "cell_type": "code",
   "execution_count": 10,
   "metadata": {},
   "outputs": [],
   "source": [
    "# follow this pattern\n",
    "\n",
    "def divider(numerator, denominator):\n",
    "    divider = numerator/denominator # default value\n",
    "    return divider\n",
    "    try:\n",
    "        pass\n",
    "    except Exception as e:\n",
    "        pass\n",
    "    else:\n",
    "        pass\n",
    "    finally:\n",
    "        pass"
   ]
  },
  {
   "cell_type": "code",
   "execution_count": 11,
   "metadata": {},
   "outputs": [
    {
     "name": "stdout",
     "output_type": "stream",
     "text": [
      "1.25\n"
     ]
    }
   ],
   "source": [
    "print(divider(10, 8))"
   ]
  },
  {
   "cell_type": "code",
   "execution_count": 12,
   "metadata": {},
   "outputs": [
    {
     "ename": "ZeroDivisionError",
     "evalue": "division by zero",
     "output_type": "error",
     "traceback": [
      "\u001b[1;31m---------------------------------------------------------------------------\u001b[0m",
      "\u001b[1;31mZeroDivisionError\u001b[0m                         Traceback (most recent call last)",
      "Cell \u001b[1;32mIn[12], line 1\u001b[0m\n\u001b[1;32m----> 1\u001b[0m divider(\u001b[39m38\u001b[39;49m, \u001b[39m0\u001b[39;49m)\n",
      "Cell \u001b[1;32mIn[10], line 4\u001b[0m, in \u001b[0;36mdivider\u001b[1;34m(numerator, denominator)\u001b[0m\n\u001b[0;32m      3\u001b[0m \u001b[39mdef\u001b[39;00m \u001b[39mdivider\u001b[39m(numerator, denominator):\n\u001b[1;32m----> 4\u001b[0m     divider \u001b[39m=\u001b[39m numerator\u001b[39m/\u001b[39;49mdenominator \u001b[39m# default value\u001b[39;00m\n\u001b[0;32m      5\u001b[0m     \u001b[39mreturn\u001b[39;00m divider\n\u001b[0;32m      6\u001b[0m     \u001b[39mtry\u001b[39;00m:\n",
      "\u001b[1;31mZeroDivisionError\u001b[0m: division by zero"
     ]
    },
    {
     "ename": "",
     "evalue": "",
     "output_type": "error",
     "traceback": [
      "\u001b[1;31mThe Kernel crashed while executing code in the the current cell or a previous cell. Please review the code in the cell(s) to identify a possible cause of the failure. Click <a href='https://aka.ms/vscodeJupyterKernelCrash'>here</a> for more info. View Jupyter <a href='command:jupyter.viewOutput'>log</a> for further details."
     ]
    }
   ],
   "source": [
    "divider(38, 0)"
   ]
  },
  {
   "cell_type": "code",
   "execution_count": null,
   "metadata": {},
   "outputs": [],
   "source": []
  },
  {
   "cell_type": "markdown",
   "metadata": {},
   "source": [
    "<img src='Exceptions.png' alt='Exceptions' width='1000px' height='1000px'/>"
   ]
  },
  {
   "cell_type": "markdown",
   "metadata": {},
   "source": []
  }
 ],
 "metadata": {
  "kernelspec": {
   "display_name": "Python 3",
   "language": "python",
   "name": "python3"
  },
  "language_info": {
   "codemirror_mode": {
    "name": "ipython",
    "version": 3
   },
   "file_extension": ".py",
   "mimetype": "text/x-python",
   "name": "python",
   "nbconvert_exporter": "python",
   "pygments_lexer": "ipython3",
   "version": "3.11.3"
  },
  "orig_nbformat": 4
 },
 "nbformat": 4,
 "nbformat_minor": 2
}
