{
 "cells": [
  {
   "cell_type": "markdown",
   "metadata": {},
   "source": [
    "# Conditions\n",
    "    - Conditions in Python starts with the `if` keyword\n",
    "    - Conditions help you tell the computer to determine what block of code to execute  "
   ]
  },
  {
   "cell_type": "markdown",
   "metadata": {},
   "source": [
    "## Comparison\n",
    "    - ==   (equal to) checks value equality\n",
    "    - !=   (not equal to) checks value equality\n",
    "    - >    (greater than) \n",
    "    - <    (less than) \n",
    "    - <=   (less than or equal to)\n",
    "    - >=   (greater than or equal to)\n",
    "    - and  expect both conditions to be true\n",
    "    - or   expects one condition to be true\n",
    "    - not  negates the statement"
   ]
  },
  {
   "cell_type": "code",
   "execution_count": null,
   "metadata": {},
   "outputs": [],
   "source": [
    "# Equal to\n",
    "\n",
    "a = 16\n",
    "b = 5\n",
    "\n",
    "a == b"
   ]
  },
  {
   "cell_type": "code",
   "execution_count": null,
   "metadata": {},
   "outputs": [],
   "source": [
    "# Not equal to\n",
    "\n",
    "a = 16\n",
    "b = 5\n",
    "\n",
    "a != b"
   ]
  },
  {
   "cell_type": "code",
   "execution_count": null,
   "metadata": {},
   "outputs": [],
   "source": [
    "# Greater than\n",
    "\n",
    "m = 12\n",
    "y = 1002\n",
    "\n",
    "y > m"
   ]
  },
  {
   "cell_type": "code",
   "execution_count": null,
   "metadata": {},
   "outputs": [],
   "source": [
    "# Less than\n",
    "\n",
    "x = 1232\n",
    "y = 9921\n",
    "\n",
    "y < x"
   ]
  },
  {
   "cell_type": "code",
   "execution_count": null,
   "metadata": {},
   "outputs": [],
   "source": [
    "# greater than or equal to\n",
    "\n",
    "a = 1000\n",
    "b = 900\n",
    "\n",
    "a >= b # ('a' is either greater than or equal to 'b')"
   ]
  },
  {
   "cell_type": "code",
   "execution_count": null,
   "metadata": {},
   "outputs": [],
   "source": [
    "# less than or equal to\n",
    "\n",
    "a = 1000\n",
    "b = 900\n",
    "\n",
    "a <= b # ('a' is either less than or equal to 'b')"
   ]
  },
  {
   "cell_type": "markdown",
   "metadata": {},
   "source": [
    "## If Statement\n",
    "    - syntax: ```if <condition>:\n",
    "                    code_to_execute\n",
    "                ```\n",
    "    - The statement within the condition will only execute if the condition returns a True value"
   ]
  },
  {
   "cell_type": "code",
   "execution_count": null,
   "metadata": {},
   "outputs": [],
   "source": [
    "allow_dogs = True\n",
    "\n",
    "# print 'Dogs are allowed' if the allow_dogs condition is met\n",
    "\n",
    "if allow_dogs == True:\n",
    "    print('Dogs are allowed')"
   ]
  },
  {
   "cell_type": "code",
   "execution_count": null,
   "metadata": {},
   "outputs": [],
   "source": [
    "allow_dogs = False\n",
    "\n",
    "# print 'Dogs are allowed' if the allow_dogs condition is met\n",
    "\n",
    "if allow_dogs: # setting allow_dogs to false stops the code block in the if statement from executing\n",
    "    print('Dogs are allowed') "
   ]
  },
  {
   "cell_type": "code",
   "execution_count": null,
   "metadata": {},
   "outputs": [],
   "source": [
    "a = 56\n",
    "b = 72\n",
    "\n",
    "if a > b:\n",
    "    print('a is greater than b')\n",
    "if a < b:\n",
    "    print('a is less than b')"
   ]
  },
  {
   "cell_type": "code",
   "execution_count": null,
   "metadata": {},
   "outputs": [],
   "source": [
    "a = 56\n",
    "b = 72\n",
    "\n",
    "if a >= b:\n",
    "    print('a is either greater than or equal to b')\n",
    "if a <= b:\n",
    "    print('a is either less than or equal to b')"
   ]
  },
  {
   "cell_type": "code",
   "execution_count": null,
   "metadata": {},
   "outputs": [],
   "source": [
    "a = 56\n",
    "b = 72\n",
    "\n",
    "if b >= a:\n",
    "    print('a is either greater than or equal to b')\n",
    "if b <= a:\n",
    "    print('a is either less than or equal to b')"
   ]
  },
  {
   "cell_type": "code",
   "execution_count": null,
   "metadata": {},
   "outputs": [],
   "source": [
    "johnsons_birthday = 'today'\n",
    "\n",
    "if johnsons_birthday == 'today':\n",
    "    print('Happy Birthday, Johnson!')"
   ]
  },
  {
   "cell_type": "markdown",
   "metadata": {},
   "source": [
    "### If Alternative - Else, ELIF\n",
    "    - when condditions are not met, we may want to execute an alternative block of code\n",
    "    - `else` helps us provide an alternative when the condition results in False"
   ]
  },
  {
   "cell_type": "code",
   "execution_count": null,
   "metadata": {},
   "outputs": [],
   "source": [
    "johnsons_birthday = 'tomorrow'\n",
    "\n",
    "if johnsons_birthday == 'today':\n",
    "    print('Happy Birthday, Johnson!')\n",
    "else:\n",
    "    print(\"Johnson's birthday is not today\")"
   ]
  },
  {
   "cell_type": "markdown",
   "metadata": {},
   "source": [
    "### Do You Remember?\n",
    "    answer the quizzes below to refresh what you know about lists, tuples and dictionaries"
   ]
  },
  {
   "cell_type": "code",
   "execution_count": null,
   "metadata": {},
   "outputs": [],
   "source": [
    "# Quiz One: Using slicing & indexing, print the third item on the list\n",
    "\n",
    "steps_to_become_a_house_owner = ['save money', 'search for a land', 'purchase a land', 'build a house']"
   ]
  },
  {
   "cell_type": "code",
   "execution_count": 6,
   "metadata": {},
   "outputs": [
    {
     "name": "stdout",
     "output_type": "stream",
     "text": [
      "<class 'tuple'>\n"
     ]
    },
    {
     "data": {
      "text/plain": [
       "('Extraction', 'Transformation', 'Loading')"
      ]
     },
     "execution_count": 6,
     "metadata": {},
     "output_type": "execute_result"
    }
   ],
   "source": [
    "# Quiz Two: Answer the below questions\n",
    "#           1. Print the data type of the variable defined below\n",
    "#           2. Processes the first three processes provided in the iterable\n",
    "\n",
    "data_engineering_processes = ('Extraction', 'Transformation', 'Loading', 'Orchestration', 'Logging', 'Monitoring')\n",
    "print(type(data_engineering_processes))\n",
    "data_engineering_processes[0:3]\n"
   ]
  },
  {
   "cell_type": "code",
   "execution_count": 9,
   "metadata": {},
   "outputs": [
    {
     "name": "stdout",
     "output_type": "stream",
     "text": [
      "-380000\n"
     ]
    }
   ],
   "source": [
    "# Quiz Three: Referencing the dictionary befined below, print the answers to the below questions:\n",
    "#            1. How much does the employee owe?\n",
    "#            2. If the owed amount is deducted from the account balance, what will be the current balance?\n",
    "\n",
    "employees_details = {'fullname': 'Arnold Obama', 'Country of Birth': 'Malta', 'Account Balance': 600000, 'Owing Amount': 980000}\n",
    "employees_details['Owing Amount']\n",
    "current_balance = employees_details['Account Balance'] - employees_details['Owing Amount']\n",
    "print(current_balance)\n",
    "\n"
   ]
  },
  {
   "cell_type": "code",
   "execution_count": null,
   "metadata": {},
   "outputs": [],
   "source": []
  },
  {
   "cell_type": "markdown",
   "metadata": {},
   "source": [
    "### Working with Data Structures and Conditions"
   ]
  },
  {
   "cell_type": "code",
   "execution_count": 14,
   "metadata": {},
   "outputs": [
    {
     "name": "stdout",
     "output_type": "stream",
     "text": [
      "['Atomicity', 'Consistency', 'Isolation', 'Durability']\n"
     ]
    }
   ],
   "source": [
    "# Question 1: Kareem compiled a list of database properties but thinks he included a wrong item at the end of the list\n",
    "#             Using an if statement:\n",
    "#               1. check the number of items in the list\n",
    "#               2. if the length of the list exceeds four:\n",
    "#                      a. create a new list with the right items \n",
    "#                      b. obtain the last item in the list\n",
    "#                      c. print the new list and the last item\n",
    "#               3. if the list does not exceed four items, print Kareem's list as is\n",
    "\n",
    "database_properties = ['Atomicity', 'Consistency', 'Isolation', 'Durability', 'Wrong Item']\n",
    "\n",
    "list_length = len(database_properties)\n",
    "if list_length > 4:\n",
    "    new_list = database_properties[0:4]\n",
    "    print(new_list)\n",
    "else:\n",
    "    print(database_properties)"
   ]
  },
  {
   "cell_type": "code",
   "execution_count": 15,
   "metadata": {},
   "outputs": [
    {
     "name": "stdout",
     "output_type": "stream",
     "text": [
      "['Atomicity', 'Consistency', 'Isolation', 'Durability']\n"
     ]
    }
   ],
   "source": [
    "item_length = len(database_properties)\n",
    "if item_length > 4:\n",
    "    neww_list = database_properties[0:4]\n",
    "    print(neww_list)\n",
    "else:\n",
    "    print(database_properties)\n",
    "\n",
    "\n"
   ]
  },
  {
   "cell_type": "code",
   "execution_count": null,
   "metadata": {},
   "outputs": [],
   "source": [
    "# Quiz Four: Create an if statement using the same instructions in Question 1 above for the list defined below\n",
    "\n",
    "database_properties = ['Atomicity', 'Consistency', 'Isolation', 'Durability']"
   ]
  },
  {
   "cell_type": "code",
   "execution_count": null,
   "metadata": {},
   "outputs": [],
   "source": []
  },
  {
   "cell_type": "markdown",
   "metadata": {},
   "source": [
    "### ELIF\n",
    "    - when condditions are not met, we may want to execute an alternative block of code\n",
    "    - `elif` helps us provide several alternative conditions when previously defined condition(s) are not met"
   ]
  },
  {
   "cell_type": "code",
   "execution_count": null,
   "metadata": {},
   "outputs": [],
   "source": [
    "johnsons_birthday = 'tomorrow'\n",
    "\n",
    "if johnsons_birthday == 'today':\n",
    "    print('Happy Birthday, Johnson!')\n",
    "elif johnsons_birthday == 'tomorrow':\n",
    "    print(\"Tomorrow is Johnson's birthday!\")"
   ]
  },
  {
   "cell_type": "code",
   "execution_count": null,
   "metadata": {},
   "outputs": [],
   "source": [
    "# it is possible to have multiple elifs in a statement\n",
    "\n",
    "johnsons_birthday = 'tomorrow'\n",
    "\n",
    "if johnsons_birthday == 'yesterday':\n",
    "    print(\"Yesterday's party was amazing!\")\n",
    "elif johnsons_birthday == 'today':\n",
    "    print('Happy Birthday, Johnson!')\n",
    "elif johnsons_birthday == 'tomorrow':\n",
    "    print(\"Tomorrow is Johnson's birthday!\")"
   ]
  },
  {
   "cell_type": "code",
   "execution_count": null,
   "metadata": {},
   "outputs": [],
   "source": [
    "# if none of the conditions provided are met, we can have an `else` statement that can be executed\n",
    "\n",
    "johnsons_birthday = 'next year'\n",
    "\n",
    "if johnsons_birthday == 'yesterday':\n",
    "    print(\"Yesterday's party was amazing!\")\n",
    "elif johnsons_birthday == 'today':\n",
    "    print('Happy Birthday, Johnson!')\n",
    "elif johnsons_birthday == 'tomorrow':\n",
    "    print(\"Tomorrow is Johnson's birthday!\")\n",
    "else:\n",
    "    print(\"Johnson's birthday is {}\".format(johnsons_birthday))"
   ]
  },
  {
   "cell_type": "code",
   "execution_count": 20,
   "metadata": {},
   "outputs": [
    {
     "name": "stdout",
     "output_type": "stream",
     "text": [
      "True\n"
     ]
    }
   ],
   "source": [
    "# Quiz Five: Write an if statement that checks if the variable below is in the shopper's list\n",
    "\n",
    "item_to_check = 'EGGS'\n",
    "shoppers_list = ['eggs', 'potatoes', 'garlic', 'blackberries']\n",
    "if item_to_check.lower() in shoppers_list:\n",
    "    print(True)\n",
    "else:\n",
    "    print('False')"
   ]
  },
  {
   "cell_type": "markdown",
   "metadata": {},
   "source": [
    "### Handling Multiple Conditions\n",
    "    - use the `and` or `or` keywords in Python\n",
    "    - (and) is used when you want BOTH consitions specified to be True\n",
    "    - (or) is used when ONE of the conditions specified is True"
   ]
  },
  {
   "cell_type": "code",
   "execution_count": null,
   "metadata": {},
   "outputs": [],
   "source": [
    "True and True"
   ]
  },
  {
   "cell_type": "code",
   "execution_count": null,
   "metadata": {},
   "outputs": [],
   "source": [
    "False and False"
   ]
  },
  {
   "cell_type": "code",
   "execution_count": null,
   "metadata": {},
   "outputs": [],
   "source": [
    "True or True"
   ]
  },
  {
   "cell_type": "code",
   "execution_count": null,
   "metadata": {},
   "outputs": [],
   "source": [
    "False or False"
   ]
  },
  {
   "cell_type": "code",
   "execution_count": null,
   "metadata": {},
   "outputs": [],
   "source": []
  },
  {
   "cell_type": "code",
   "execution_count": null,
   "metadata": {},
   "outputs": [],
   "source": []
  },
  {
   "cell_type": "code",
   "execution_count": null,
   "metadata": {},
   "outputs": [],
   "source": []
  },
  {
   "cell_type": "code",
   "execution_count": null,
   "metadata": {},
   "outputs": [],
   "source": []
  },
  {
   "cell_type": "code",
   "execution_count": null,
   "metadata": {},
   "outputs": [],
   "source": [
    "# Question: A firm wants to award its employees.\n",
    "#           An employee can be considered staff of the month only if they satisfy the below conditions:\n",
    "#               1. The employee has been in the company for over 3 years\n",
    "#               2. The employee has completed their yearly KPI\n",
    "#           Write a conditional statement to determine if Kevin can be awarded staff of the month\n"
   ]
  },
  {
   "cell_type": "code",
   "execution_count": 37,
   "metadata": {},
   "outputs": [
    {
     "name": "stdout",
     "output_type": "stream",
     "text": [
      "The KPI is met\n",
      "The age requirement is also met\n",
      "You are eligible\n"
     ]
    }
   ],
   "source": [
    "no_years = 4\n",
    "kpi = True\n",
    "if no_years > 3 and kpi == True:\n",
    "        print(\"The KPI is met\")\n",
    "        print('The age requirement is also met')\n",
    "        print('You are eligible')\n",
    "else:\n",
    "    print(f\"You are not qualified with your {no_years} years of experience\")\n"
   ]
  }
 ],
 "metadata": {
  "kernelspec": {
   "display_name": "Python 3",
   "language": "python",
   "name": "python3"
  },
  "language_info": {
   "codemirror_mode": {
    "name": "ipython",
    "version": 3
   },
   "file_extension": ".py",
   "mimetype": "text/x-python",
   "name": "python",
   "nbconvert_exporter": "python",
   "pygments_lexer": "ipython3",
   "version": "3.11.3"
  },
  "orig_nbformat": 4
 },
 "nbformat": 4,
 "nbformat_minor": 2
}
